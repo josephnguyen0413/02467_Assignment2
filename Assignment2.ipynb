{
 "cells": [
  {
   "cell_type": "markdown",
   "metadata": {},
   "source": [
    "# Assignment 1\n",
    "> **Github repository**: [02467_Assignment1](https://github.com/JulWin24/02467_Assignment1)\n",
    ">\n",
    "> **Group members**:\n",
    "> - Rune Harlyk (s234814)\n",
    "> - Joseph Nguyen (s234826)\n",
    "> - Julius Winkel (s234862)\n",
    "\n",
    "We have all worked together on the code and answering questions."
   ]
  },
  {
   "cell_type": "markdown",
   "metadata": {},
   "source": [
    "## Part 1: Properties of the real-world network of Computational Social Scientists"
   ]
  },
  {
   "cell_type": "markdown",
   "metadata": {},
   "source": [
    "> * First, calculate the probability (_p_) that makes the expected number of edges in our random network match the actual edge count in the Computational Social Scientists network. Refer to equation 3.2 in your Network Science textbook for guidance. After finding _p_, figure out the average degree (using the given formula). "
   ]
  },
  {
   "cell_type": "markdown",
   "metadata": {},
   "source": [
    "$$ p = \\frac{2L}{N(N-1)} $$\n",
    "\n",
    "$$ k = p(N-1) $$"
   ]
  },
  {
   "cell_type": "code",
   "execution_count": null,
   "metadata": {},
   "outputs": [],
   "source": [
    "import networkx as nx\n",
    "import json\n",
    "import numpy as np\n",
    "import pandas as pd\n",
    "from tqdm import tqdm \n",
    "\n",
    "def load_graph(graph_file):\n",
    "    with open(graph_file, \"r\") as f:\n",
    "        data = json.load(f)\n",
    "    G = nx.readwrite.json_graph.node_link_graph(data)\n",
    "    return G\n",
    "\n",
    "graph_file = \"02467_Assignment1/ic2s2_coauthors_graph.json\"\n",
    "G = load_graph(graph_file)\n",
    "N = G.number_of_nodes()\n",
    "L = G.number_of_edges()\n",
    "print(f\"Number of nodes: {N}, Number of edges: {L}\")"
   ]
  },
  {
   "cell_type": "code",
   "execution_count": null,
   "metadata": {},
   "outputs": [],
   "source": [
    "p = (2 * L) / (N * (N - 1))\n",
    "k = p*(N-1)\n",
    "print(f\"Edge probability: {p:.4f}, Expected degree: {k:.4f}\")"
   ]
  },
  {
   "cell_type": "markdown",
   "metadata": {},
   "source": [
    "> * Now, write a function to generate a Random Network that mirrors the Computational Social Scientists network in terms of node count, using your calculated _p_. Generate a random network by linking nodes in every possible pair with probability _p_. **Hint**: you can use the function [``np.random.uniform``](https://numpy.org/doc/stable/reference/random/generated/numpy.random.uniform.html) to draw samples from a uniform probability distribution.   "
   ]
  },
  {
   "cell_type": "code",
   "execution_count": null,
   "metadata": {},
   "outputs": [],
   "source": [
    "from tqdm import tqdm \n",
    "from itertools import combinations\n",
    "\n",
    "def random_network(N, E, p):\n",
    "    G = nx.Graph()\n",
    "    G.add_nodes_from(range(N))\n",
    "    \n",
    "    node_pairs = combinations(range(N), 2)\n",
    "    \n",
    "    for (i, j) in tqdm(node_pairs, desc=\"Progress\", total=N*(N-1)//2):\n",
    "        if np.random.uniform(0, 1) < p:\n",
    "            G.add_edge(i, j)\n",
    "    return G\n",
    "\n",
    "G_random = random_network(N, L, p)\n",
    "print(f\"Number of nodes: {G_random.number_of_nodes()}, Number of edges: {G_random.number_of_edges()}\")"
   ]
  },
  {
   "cell_type": "markdown",
   "metadata": {},
   "source": [
    "> * Visualize the network as you did for the Computational Social Scientists network in the exercise above (my version is below). \n"
   ]
  },
  {
   "cell_type": "code",
   "execution_count": null,
   "metadata": {},
   "outputs": [],
   "source": [
    "L_random = G_random.number_of_edges()\n",
    "p_random = (2 * L_random) / (N * (N - 1))\n",
    "p_c = 1 / N\n",
    "print(f'p: {p_random:.4f}, p_critical: {p_c:.4f}')"
   ]
  },
  {
   "cell_type": "markdown",
   "metadata": {},
   "source": [
    "Since $p \\gt p_c$, the random netowrk is a supercritical regime according to section 3.6 in Network Science. "
   ]
  }
 ],
 "metadata": {
  "kernelspec": {
   "display_name": "base",
   "language": "python",
   "name": "python3"
  },
  "language_info": {
   "name": "python",
   "version": "3.11.5"
  }
 },
 "nbformat": 4,
 "nbformat_minor": 2
}
