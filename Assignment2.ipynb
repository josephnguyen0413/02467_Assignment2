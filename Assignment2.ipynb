{
 "cells": [
  {
   "cell_type": "markdown",
   "metadata": {},
   "source": [
    "# Assignment 2\n",
    "> **Github repository**: [SKAL OPDATERES](https://github.com/JulWin24/02467_Assignment1)\n",
    ">\n",
    "> **Group members**:\n",
    "> - Rune Harlyk (s234814)\n",
    "> - Joseph Nguyen (s234826)\n",
    "> - Julius Winkel (s234862)\n",
    "\n",
    "We have all worked together on the code and answering questions."
   ]
  },
  {
   "cell_type": "markdown",
   "metadata": {},
   "source": [
    "## Part 0"
   ]
  },
  {
   "cell_type": "code",
   "execution_count": 6,
   "metadata": {},
   "outputs": [],
   "source": [
    "import networkx as nx\n",
    "import json\n",
    "import numpy as np\n",
    "import pandas as pd\n",
    "from tqdm.notebook import tqdm \n",
    "import netwulf as nw\n",
    "import matplotlib.pyplot as plt\n",
    "import seaborn as sns\n",
    "import random\n",
    "from joblib import delayed, Parallel\n",
    "from collections import defaultdict\n",
    "from community import community_louvain\n",
    "from wordcloud import WordCloud\n",
    "# import nltk\n",
    "# import nltk.book as book\n",
    "\n",
    "sns.set_theme(style=\"darkgrid\")\n",
    "\n",
    "seed = 42\n",
    "np.random.seed(seed)\n",
    "random.seed(seed)"
   ]
  },
  {
   "cell_type": "markdown",
   "metadata": {},
   "source": [
    "## Part 1: Properties of the real-world network of Computational Social Scientists"
   ]
  },
  {
   "cell_type": "markdown",
   "metadata": {},
   "source": [
    "> * First, calculate the probability (_p_) that makes the expected number of edges in our random network match the actual edge count in the Computational Social Scientists network. Refer to equation 3.2 in your Network Science textbook for guidance. After finding _p_, figure out the average degree (using the given formula). "
   ]
  },
  {
   "cell_type": "markdown",
   "metadata": {},
   "source": [
    "$$ p = \\frac{2L}{N(N-1)} $$\n",
    "\n",
    "$$ k = p(N-1) $$"
   ]
  },
  {
   "cell_type": "code",
   "execution_count": 7,
   "metadata": {},
   "outputs": [
    {
     "name": "stdout",
     "output_type": "stream",
     "text": [
      "Number of nodes: 14139, Number of edges: 57661\n"
     ]
    }
   ],
   "source": [
    "def load_graph(graph_file):\n",
    "    with open(graph_file, \"r\") as f:\n",
    "        data = json.load(f)\n",
    "    G = nx.readwrite.json_graph.node_link_graph(data)\n",
    "    return G\n",
    "\n",
    "graph_file = \"ic2s2_coauthors_graph.json\"\n",
    "G = load_graph(graph_file)\n",
    "N = G.number_of_nodes()\n",
    "L = G.number_of_edges()\n",
    "print(f\"Number of nodes: {N}, Number of edges: {L}\")"
   ]
  },
  {
   "cell_type": "code",
   "execution_count": 8,
   "metadata": {},
   "outputs": [
    {
     "name": "stdout",
     "output_type": "stream",
     "text": [
      "Edge probability: 0.0006, Expected degree: 8.1563\n"
     ]
    }
   ],
   "source": [
    "def edge_prob(N, L):\n",
    "    return (2 * L) / (N * (N - 1))\n",
    "\n",
    "def expected_degree(p, N):\n",
    "    return p * (N - 1)\n",
    "\n",
    "p = edge_prob(N, L)\n",
    "k = expected_degree(p, N)\n",
    "print(f\"Edge probability: {p:.4f}, Expected degree: {k:.4f}\")"
   ]
  },
  {
   "cell_type": "markdown",
   "metadata": {},
   "source": [
    "> * Now, write a function to generate a Random Network that mirrors the Computational Social Scientists network in terms of node count, using your calculated _p_. Generate a random network by linking nodes in every possible pair with probability _p_. **Hint**: you can use the function [``np.random.uniform``](https://numpy.org/doc/stable/reference/random/generated/numpy.random.uniform.html) to draw samples from a uniform probability distribution.   "
   ]
  },
  {
   "cell_type": "code",
   "execution_count": 9,
   "metadata": {},
   "outputs": [
    {
     "name": "stdout",
     "output_type": "stream",
     "text": [
      "Number of nodes for random network: 14139, Number of edges for random network: 57596\n"
     ]
    }
   ],
   "source": [
    "def random_network(G, seed = 42):\n",
    "    random.seed(seed)\n",
    "    N = G.number_of_nodes()\n",
    "    L = G.number_of_edges()\n",
    "    p = edge_prob(N, L)\n",
    "    G_random = nx.erdos_renyi_graph(N, p, seed=seed)\n",
    "    country_codes = [data['country_code'] for _, data in G.nodes(data=True) if 'country_code' in data]\n",
    "    nx.set_node_attributes(G_random, {n: {'country_code': random.choice(country_codes)} for n in G_random})\n",
    "    return G_random\n",
    "\n",
    "G_random = random_network(G, seed)\n",
    "print(f\"Number of nodes for random network: {G_random.number_of_nodes()}, Number of edges for random network: {G_random.number_of_edges()}\")"
   ]
  },
  {
   "cell_type": "markdown",
   "metadata": {},
   "source": [
    "> * Visualize the network as you did for the Computational Social Scientists network in the exercise above (my version is below). \n"
   ]
  },
  {
   "cell_type": "code",
   "execution_count": 5,
   "metadata": {},
   "outputs": [
    {
     "ename": "TypeError",
     "evalue": "'NoneType' object is not subscriptable",
     "output_type": "error",
     "traceback": [
      "\u001b[1;31m---------------------------------------------------------------------------\u001b[0m",
      "\u001b[1;31mTypeError\u001b[0m                                 Traceback (most recent call last)",
      "Cell \u001b[1;32mIn[5], line 4\u001b[0m\n\u001b[0;32m      1\u001b[0m network, config \u001b[38;5;241m=\u001b[39m nw\u001b[38;5;241m.\u001b[39mvisualize(G_random)\n\u001b[0;32m      3\u001b[0m \u001b[38;5;66;03m# draw links only at first\u001b[39;00m\n\u001b[1;32m----> 4\u001b[0m \u001b[43mnw\u001b[49m\u001b[38;5;241;43m.\u001b[39;49m\u001b[43mdraw_netwulf\u001b[49m\u001b[43m(\u001b[49m\u001b[43mnetwork\u001b[49m\u001b[43m)\u001b[49m\n",
      "File \u001b[1;32mc:\\Python312\\Lib\\site-packages\\netwulf\\tools.py:369\u001b[0m, in \u001b[0;36mdraw_netwulf\u001b[1;34m(network_properties, fig, ax, figsize, draw_links, draw_nodes, link_zorder, node_zorder)\u001b[0m\n\u001b[0;32m    367\u001b[0m ax\u001b[38;5;241m.\u001b[39maxis(\u001b[38;5;124m'\u001b[39m\u001b[38;5;124moff\u001b[39m\u001b[38;5;124m'\u001b[39m)\n\u001b[0;32m    368\u001b[0m ax\u001b[38;5;241m.\u001b[39mmargins(\u001b[38;5;241m0\u001b[39m)\n\u001b[1;32m--> 369\u001b[0m ax\u001b[38;5;241m.\u001b[39mset_xlim(\u001b[43mnetwork_properties\u001b[49m\u001b[43m[\u001b[49m\u001b[38;5;124;43m'\u001b[39;49m\u001b[38;5;124;43mxlim\u001b[39;49m\u001b[38;5;124;43m'\u001b[39;49m\u001b[43m]\u001b[49m)\n\u001b[0;32m    370\u001b[0m ax\u001b[38;5;241m.\u001b[39mset_ylim(network_properties[\u001b[38;5;124m'\u001b[39m\u001b[38;5;124mylim\u001b[39m\u001b[38;5;124m'\u001b[39m])\n\u001b[0;32m    371\u001b[0m bbox \u001b[38;5;241m=\u001b[39m ax\u001b[38;5;241m.\u001b[39mget_window_extent()\u001b[38;5;241m.\u001b[39mtransformed(fig\u001b[38;5;241m.\u001b[39mdpi_scale_trans\u001b[38;5;241m.\u001b[39minverted())\n",
      "\u001b[1;31mTypeError\u001b[0m: 'NoneType' object is not subscriptable"
     ]
    },
    {
     "data": {
      "image/png": "[encoded data removed]",
      "text/plain": [
       "<Figure size 480x480 with 1 Axes>"
      ]
     },
     "metadata": {},
     "output_type": "display_data"
    }
   ],
   "source": [
    "network, config = nw.visualize(G_random)\n",
    "\n",
    "# draw links only at first\n",
    "nw.draw_netwulf(network)"
   ]
  },
  {
   "cell_type": "markdown",
   "metadata": {},
   "source": [
    "> * Answer the following questions __(max 200 words in total)__: \n",
    ">    - What regime does your random network fall into? Is it above or below the critical threshold?  \n",
    ">    - According to the textbook, what does the network's structure resemble in this regime?  \n",
    ">    - Based on your visualizations, identify the key differences between the actual and the random networks. Explain whether these differences are consistent with theoretical expectations."
   ]
  },
  {
   "cell_type": "code",
   "execution_count": 10,
   "metadata": {},
   "outputs": [
    {
     "name": "stdout",
     "output_type": "stream",
     "text": [
      "p: 0.0006, p_critical: 0.0001\n"
     ]
    }
   ],
   "source": [
    "L_random = G_random.number_of_edges()\n",
    "p_random = edge_prob(N, L_random)\n",
    "p_c = 1 / N\n",
    "print(f'p: {p_random:.4f}, p_critical: {p_c:.4f}')"
   ]
  },
  {
   "cell_type": "markdown",
   "metadata": {},
   "source": [
    "- Since $p \\gt p_c$, the random network is a supercritical regime according to section 3.6 in the book \"Network Science\". That means the random network is above the critical threshold. \n",
    "- $\\dots$\n",
    "- One property of real-world networks are that they are heavy tailed distributions. In our case, the top author in the real network had a degree of 339, but for the random network, the top author only has a degree of 22."
   ]
  },
  {
   "cell_type": "markdown",
   "metadata": {},
   "source": [
    "> 2. _Shortest Paths_: Here, we will check if the Computational Social Scientists Network exhibits characteristics of a small-world network by analyzing its shortest paths.\n",
    "> * Begin by identifying the largest connected component within the Computational Social Scientists network. Recall that a connected component is a subset of nodes in which every pair of nodes is connected by a path. For a refresher on connected components, see section 2.9 of the Network Science book. Follow these steps:\n",
    ">    - Utilize [``nx.algorithms.connected_components``](https://networkx.org/documentation/stable//reference/algorithms/generated/networkx.algorithms.components.connected_components.html) to enumerate all connected components, which will be returned as a list of node subsets.\n",
    ">    - Select the largest subset of nodes identified in the previous step. Then, create a subgraph of your original network that includes only these nodes, using [``nx.Graph.subgraph``](https://networkx.org/documentation/stable/reference/classes/generated/networkx.Graph.subgraph.html). This subset forms your largest connected component, sometimes referred to as the [giant component](https://en.wikipedia.org/wiki/Giant_component).\n"
   ]
  },
  {
   "cell_type": "code",
   "execution_count": 11,
   "metadata": {},
   "outputs": [],
   "source": [
    "cc = nx.algorithms.connected_components(G)\n",
    "largest_cc = max(cc, key=len)\n",
    "giant_component = G.subgraph(largest_cc).copy()"
   ]
  },
  {
   "cell_type": "markdown",
   "metadata": {},
   "source": [
    "> * Calculate the average (unweighted) shortest path length within this giant component by employing [``nx.average_shortest_path_length``](https://networkx.org/documentation/networkx-1.3/reference/generated/networkx.average_shortest_path_length.html)."
   ]
  },
  {
   "cell_type": "code",
   "execution_count": 8,
   "metadata": {},
   "outputs": [
    {
     "data": {
      "text/plain": [
       "5.168259510783142"
      ]
     },
     "execution_count": 8,
     "metadata": {},
     "output_type": "execute_result"
    }
   ],
   "source": [
    "nx.average_shortest_path_length(giant_component) "
   ]
  },
  {
   "cell_type": "markdown",
   "metadata": {},
   "source": [
    "\n",
    "> * Perform the same calculation for the giant component of the random network you constructed in the above exercise 1.\n"
   ]
  },
  {
   "cell_type": "code",
   "execution_count": 12,
   "metadata": {},
   "outputs": [
    {
     "name": "stdout",
     "output_type": "stream",
     "text": [
      "Edge probability: 0.0006, Expected degree: 8.3073\n"
     ]
    }
   ],
   "source": [
    "N = giant_component.number_of_nodes()\n",
    "L = giant_component.number_of_edges()\n",
    "p = edge_prob(N, L)\n",
    "k = expected_degree(p, N)\n",
    "print(f\"Edge probability: {p:.4f}, Expected degree: {k:.4f}\")"
   ]
  },
  {
   "cell_type": "markdown",
   "metadata": {},
   "source": [
    "\n",
    "> * Reflect on how the average shortest path lengths of the real and random networks compare and answer the following questions, supporting your answers with the theory from the book.\n",
    ">   - Why do you think I asked you to consider the giant component only?\n",
    ">   - Why do you think I asked you to consider unweighted edges?\n",
    ">   - Does the Computational Social Scientists network exhibit the small-world phenomenon?"
   ]
  },
  {
   "cell_type": "markdown",
   "metadata": {},
   "source": [
    "## Part 2 Network Analysis in Computational Social Science"
   ]
  },
  {
   "cell_type": "markdown",
   "metadata": {},
   "source": [
    "> __Exercise 1: Mixing Patterns and Assortativity__ \n",
    ">\n"
   ]
  },
  {
   "cell_type": "markdown",
   "metadata": {},
   "source": [
    "> __Part 1: Assortativity Coefficient__ \n",
    "> 1. *Calculate the Assortativity Coefficient* for the network based on the country of each node. Implement the calculation using the formula provided during the lecture, also available in [this paper](https://arxiv.org/pdf/cond-mat/0209450.pdf) (equation 2, here for directed networks). **Do not use the NetworkX implementation.**\n",
    ">\n"
   ]
  },
  {
   "cell_type": "markdown",
   "metadata": {},
   "source": [
    "We use the formula:"
   ]
  },
  {
   "cell_type": "markdown",
   "metadata": {},
   "source": [
    "$$\n",
    "r = \\frac{\\sum_i e_{ii} - \\sum_i a_i b_i}{1 - \\sum_i a_i b_i}\n",
    "$$\n"
   ]
  },
  {
   "cell_type": "code",
   "execution_count": 13,
   "metadata": {},
   "outputs": [
    {
     "name": "stdout",
     "output_type": "stream",
     "text": [
      "Assortativity coefficient: 0.3882\n"
     ]
    }
   ],
   "source": [
    "def assortativity_coefficient(G, attribute):\n",
    "    mixing_matrix = nx.attribute_mixing_matrix(G, attribute) \n",
    "\n",
    "    # Sum by row to get a_i\n",
    "    ai = np.sum(mixing_matrix, axis=0)\n",
    "\n",
    "    # sum by column to get b_i\n",
    "    bi = np.sum(mixing_matrix, axis=1)\n",
    "\n",
    "    # Diagonal from mixing matrix to get e_ii\n",
    "    eii = np.trace(mixing_matrix)\n",
    "    r = (eii - np.sum(ai*bi)) / (1 - np.sum(ai*bi))\n",
    "    return r\n",
    "\n",
    "r = assortativity_coefficient(G, 'country_code')\n",
    "print(f\"Assortativity coefficient: {r:.4f}\")"
   ]
  },
  {
   "cell_type": "markdown",
   "metadata": {},
   "source": [
    "> __Part 2: Configuration model__\n",
    "> In the following, we are going to assess the significance of the assortativity by comparing the network's assortativity coefficient against that of random networks generated through the configuration model.  \n",
    ">\n",
    "> 2. *Implement the configuration model* using the _double edge swap_ algorithm to generate random networks. Ensure each node retains its original degree but with altered connections. Create a function that does that by following these steps:\n",
    ">   - **a.** Create an exact copy of your original network.\n",
    ">   - **b.** Select two edges, $e_{1} = (u,v)$ and $e_{2} = (x,y)$, ensuring *u != y* and *v != x*.\n",
    ">   - **c.** Flip the direction of $e_{1}$ to $e_{1} = (v,u)$ 50% of the time. This ensure that your final results is not biased, in case your edges were sorted (they usually are). \n",
    ">   - **d.** Ensure that new edges $e_{1}' = (e_{1}[0],e_{2}[1])$ and $e_{2}' = (e_{2}[0],e_{1}[1])$ do not already exist in the network.\n",
    ">   - **e.** Remove edges $e_{1}$ and $e_{2}$ and add edges $e_{1}'$ and $e_{2}'$.\n",
    ">   - **f.** Repeat steps **b** to **e** until you have performed _E*10_ swaps, where E is the total number of edges.\n"
   ]
  },
  {
   "cell_type": "code",
   "execution_count": 14,
   "metadata": {},
   "outputs": [
    {
     "data": {
      "text/plain": [
       "0.0008190055386686307"
      ]
     },
     "execution_count": 14,
     "metadata": {},
     "output_type": "execute_result"
    }
   ],
   "source": [
    "def double_edge_swap(G):\n",
    "    H = G.copy()\n",
    "    E = H.number_of_edges()\n",
    "    total_swaps = E * 10\n",
    "    edges = list(H.edges())\n",
    "    swaps = 0\n",
    "    while swaps < total_swaps:\n",
    "        i, j = random.sample(range(E), 2)\n",
    "        u, v = edges[i]\n",
    "        x, y = edges[j]\n",
    "        if random.random() < 0.5:\n",
    "            u, v = v, u\n",
    "        if u == y or v == x or H.has_edge(u, y) or H.has_edge(x, v):\n",
    "            continue\n",
    "        H.remove_edge(u, v)\n",
    "        H.remove_edge(x, y)\n",
    "        H.add_edge(u, y)\n",
    "        H.add_edge(x, v)\n",
    "        edges[i] = (u, y)\n",
    "        edges[j] = (x, v)\n",
    "        swaps += 1\n",
    "    return H\n",
    "\n",
    "H = double_edge_swap(G)\n",
    "assortativity_coefficient(H, 'country_code')"
   ]
  },
  {
   "cell_type": "markdown",
   "metadata": {},
   "source": [
    "\n",
    "> 3. *Double check that your algorithm works well*, by showing that the degree of nodes in the original network and the new 'randomized' version of the network are the same.\n",
    ">\n",
    ">\n"
   ]
  },
  {
   "cell_type": "code",
   "execution_count": 15,
   "metadata": {},
   "outputs": [
    {
     "name": "stdout",
     "output_type": "stream",
     "text": [
      "Degrees preserved: True\n"
     ]
    }
   ],
   "source": [
    "orig_degrees = dict(G.degree())\n",
    "rand_degrees = dict(H.degree())\n",
    "print(\"Degrees preserved:\", all(orig_degrees[node] == rand_degrees[node] for node in G.nodes()))"
   ]
  },
  {
   "cell_type": "markdown",
   "metadata": {},
   "source": [
    "> __Part 3: Analyzing Assortativity in Random Networks__  \n",
    ">\n",
    "> 4. *Generate and analyze at least 100 random networks* using the configuration model. For each, calculate the assortativity with respect to the country and plot the distribution of these values. Compare the results with the assortativity of your original network to determine if connections within the same country are significantly higher than chance.\n",
    ">"
   ]
  },
  {
   "cell_type": "code",
   "execution_count": 13,
   "metadata": {},
   "outputs": [],
   "source": [
    "# TODO: Delete whole code cell \n",
    "\n",
    "# def plot_by_country(G):\n",
    "#     r_values = []\n",
    "#     for i in range(5):\n",
    "#         G_random = random_network(G, seed = i)\n",
    "#         print(nx.attribute_assortativity_coefficient(G_random, 'country_code'))\n",
    "#         r_values.append(nx.attribute_assortativity_coefficient(G_random, 'country_code'))\n",
    "#     plt.hist(r_values)\n",
    "\n",
    "# plot_by_country(G)"
   ]
  },
  {
   "cell_type": "markdown",
   "metadata": {},
   "source": [
    "Getting assortativity coefficients from 100 random networks"
   ]
  },
  {
   "cell_type": "code",
   "execution_count": null,
   "metadata": {},
   "outputs": [
    {
     "data": {
      "application/vnd.jupyter.widget-view+json": {
       "model_id": "95d75cf2f9d446dd9aad58f19f274c78",
       "version_major": 2,
       "version_minor": 0
      },
      "text/plain": [
       "Assortativity for random graphs:   0%|          | 0/100 [00:00<?, ?it/s]"
      ]
     },
     "metadata": {},
     "output_type": "display_data"
    }
   ],
   "source": [
    "def assortativity_by_country(seed, G):\n",
    "    G_random = random_network(G, seed=seed)\n",
    "    return assortativity_coefficient(G_random, 'country_code')\n",
    "\n",
    "def parallel_r_values(G, n_iters=100, n_jobs=-1):\n",
    "    parallel_gen = Parallel(return_as=\"generator\", n_jobs=n_jobs)(delayed(assortativity_by_country)(seed, G) for seed in range(n_iters))\n",
    "    r_values = [r for r in tqdm(parallel_gen, desc=\"Assortativity for random graphs\", total=n_iters)]\n",
    "    return r_values\n",
    "\n",
    "r_values = parallel_r_values(G)"
   ]
  },
  {
   "cell_type": "markdown",
   "metadata": {},
   "source": [
    "Plotting assortativity coefficients"
   ]
  },
  {
   "cell_type": "code",
   "execution_count": 35,
   "metadata": {},
   "outputs": [
    {
     "data": {
      "image/png": "[encoded data removed]",
      "text/plain": [
       "<Figure size 640x480 with 1 Axes>"
      ]
     },
     "metadata": {},
     "output_type": "display_data"
    }
   ],
   "source": [
    "plt.hist(r_values, bins=20, alpha=0.7)\n",
    "plt.title(\"Distribution of Assortativity Values\")\n",
    "plt.xlabel(\"Assortativity\")\n",
    "plt.ylabel(\"Frequency\")\n",
    "plt.tight_layout()\n",
    "plt.show()"
   ]
  },
  {
   "cell_type": "markdown",
   "metadata": {},
   "source": [
    "> __Exercise 2: Zachary's karate club__: In this exercise, we will work on Zarachy's karate club graph (refer to the Introduction of Chapter 9). The dataset is available in NetworkX, by calling the function [karate_club_graph](https://networkx.org/documentation/stable//auto_examples/graph/plot_karate_club.html)\n",
    ">\n",
    "> 1. Visualize the graph. Set the color of each node based on the club split (the information is stored as a node attribute). My version of the visualization is below.\n"
   ]
  },
  {
   "cell_type": "code",
   "execution_count": 20,
   "metadata": {},
   "outputs": [],
   "source": [
    "G_karate = nx.karate_club_graph()\n",
    "# network, config = nw.visualize(G_karate, config={'zoom':3})"
   ]
  },
  {
   "cell_type": "markdown",
   "metadata": {},
   "source": [
    "> 2. Write a function to compute the __modularity__ of a graph partitioning (use **equation 9.12** in the book). The function should take a networkX Graph and a partitioning as inputs and return the modularity.\n"
   ]
  },
  {
   "cell_type": "code",
   "execution_count": 21,
   "metadata": {},
   "outputs": [],
   "source": [
    "def community_modularity(G, c, L):\n",
    "    s = G.subgraph(c)\n",
    "    L_c = s.number_of_edges()\n",
    "    k_c = sum(dict(s.degree()).values())\n",
    "    M_c = L_c / L - (k_c / (2 * L)) ** 2\n",
    "    return M_c\n",
    "\n",
    "def modularity(G, partitions):\n",
    "    L = G.number_of_edges()\n",
    "    return sum((community_modularity(G, c, L) for c in partitions))"
   ]
  },
  {
   "cell_type": "markdown",
   "metadata": {},
   "source": [
    "> 3. Explain in your own words the concept of _modularity_.\n"
   ]
  },
  {
   "cell_type": "markdown",
   "metadata": {},
   "source": [
    "> 4. Compute the modularity of the Karate club split partitioning using the function you just wrote. Note: the Karate club split partitioning is avilable as a [node attribute](https://networkx.org/documentation/networkx-1.10/reference/generated/networkx.classes.function.get_node_attributes.html), called _\"club\"_.\n"
   ]
  },
  {
   "cell_type": "code",
   "execution_count": 22,
   "metadata": {},
   "outputs": [
    {
     "name": "stdout",
     "output_type": "stream",
     "text": [
      "There are 2\n",
      "The modularity is 0.48931623931623935\n"
     ]
    }
   ],
   "source": [
    "def partition_by_attribute(G, attribute):\n",
    "    labels = nx.get_node_attributes(G, attribute)\n",
    "    groups = defaultdict(set)\n",
    "    [groups[label].add(node) for node, label in labels.items()]\n",
    "    return list(groups.values())\n",
    "\n",
    "\n",
    "communities = partition_by_attribute(G_karate, \"club\")\n",
    "karate_modularity = modularity(G_karate, communities) \n",
    "print(f\"There are {len(communities)}\")\n",
    "print(f\"The modularity is {karate_modularity}\")"
   ]
  },
  {
   "cell_type": "markdown",
   "metadata": {},
   "source": [
    "> 5. Create $1000$ randomized version of the Karate Club network using the _double edge swap_ algorithm you wrote in the exercise above 5. For each of them, compute the modularity of the \"club\" split and store it in a list.\n"
   ]
  },
  {
   "cell_type": "code",
   "execution_count": 29,
   "metadata": {},
   "outputs": [
    {
     "data": {
      "application/vnd.jupyter.widget-view+json": {
       "model_id": "6694034de1f04f75a8575a5907701c11",
       "version_major": 2,
       "version_minor": 0
      },
      "text/plain": [
       "Modularity for random graphs:   0%|          | 0/1000 [00:00<?, ?it/s]"
      ]
     },
     "metadata": {},
     "output_type": "display_data"
    }
   ],
   "source": [
    "def random_modularity(G):\n",
    "    H = double_edge_swap(G)\n",
    "    communities = partition_by_attribute(H, \"club\")\n",
    "    return modularity(H, communities)\n",
    "\n",
    "def parallel_modularity_karate_networks(G, n_iters=1000, n_jobs=-1):\n",
    "    parallel_gen = Parallel(return_as=\"generator\", n_jobs=n_jobs)(delayed(random_modularity)(G) for _ in range(n_iters))\n",
    "    modularity_values = [r for r in tqdm(parallel_gen, desc=\"Modularity for random graphs\", total=n_iters)]\n",
    "    return modularity_values\n",
    "\n",
    "modularity_karate_values = parallel_modularity_karate_networks(G_karate)"
   ]
  },
  {
   "cell_type": "markdown",
   "metadata": {},
   "source": [
    "> 6. Compute the average and standard deviation of the modularity for the random network.\n"
   ]
  },
  {
   "cell_type": "code",
   "execution_count": 30,
   "metadata": {},
   "outputs": [
    {
     "data": {
      "text/plain": [
       "(0.3646443129520052, 0.024149778772931462)"
      ]
     },
     "execution_count": 30,
     "metadata": {},
     "output_type": "execute_result"
    }
   ],
   "source": [
    "modularity_karate_values = np.array(modularity_karate_values)\n",
    "modularity_karate_avg = modularity_karate_values.mean()\n",
    "modularity_karate_std = modularity_karate_values.std()\n",
    "modularity_karate_avg, modularity_karate_std"
   ]
  },
  {
   "cell_type": "markdown",
   "metadata": {},
   "source": [
    "> 7. Plot the distribution of the \"random\" modularity. Plot the actual modularity of the club split as a vertical line (use [axvline](https://matplotlib.org/stable/api/_as_gen/matplotlib.pyplot.axvline.html)).\n"
   ]
  },
  {
   "cell_type": "code",
   "execution_count": 36,
   "metadata": {},
   "outputs": [
    {
     "data": {
      "image/png": "[encoded data removed]",
      "text/plain": [
       "<Figure size 640x480 with 1 Axes>"
      ]
     },
     "metadata": {},
     "output_type": "display_data"
    }
   ],
   "source": [
    "plt.hist(modularity_karate_values, bins=10, alpha=0.7)\n",
    "plt.axvline(karate_modularity, color='red', linestyle='dashed', linewidth=2)\n",
    "plt.title(\"Random Modularity Distribution vs. Karate Club Split\")\n",
    "plt.xlabel(\"Modularity\")\n",
    "plt.ylabel(\"Frequency\")\n",
    "plt.tight_layout()\n",
    "plt.show();"
   ]
  },
  {
   "cell_type": "markdown",
   "metadata": {},
   "source": [
    "> 8. Comment on the figure. Is the club split a good partitioning? Why do you think I asked you to perform a randomization experiment? What is the reason why we preserved the nodes degree?\n"
   ]
  },
  {
   "cell_type": "markdown",
   "metadata": {},
   "source": [
    "> 9.  Use [the Python Louvain-algorithm implementation](https://anaconda.org/auto/python-louvain) to find communities in this graph. Report the value of modularity found by the algorithm. Is it higher or lower than what you found above for the club split? What does this comparison reveal?\n"
   ]
  },
  {
   "cell_type": "code",
   "execution_count": null,
   "metadata": {},
   "outputs": [],
   "source": []
  },
  {
   "cell_type": "markdown",
   "metadata": {},
   "source": [
    "> 10.  Compare the communities found by the Louvain algorithm with the club split partitioning by creating a matrix **_D_** with dimension (2 times _A_), where _A_ is the number of communities found by Louvain. We set entry _D_(_i_,_j_) to be the number of nodes that community _i_ has in common with group split _j_. The matrix **_D_** is what we call a [**confusion matrix**](https://en.wikipedia.org/wiki/Confusion_matrix). Use the confusion matrix to explain how well the communities you've detected correspond to the club split partitioning."
   ]
  },
  {
   "cell_type": "markdown",
   "metadata": {},
   "source": [
    "## Part 3 - Words that characterize Computational Social Science communities"
   ]
  }
 ],
 "metadata": {
  "kernelspec": {
   "display_name": "Python 3",
   "language": "python",
   "name": "python3"
  },
  "language_info": {
   "codemirror_mode": {
    "name": "ipython",
    "version": 3
   },
   "file_extension": ".py",
   "mimetype": "text/x-python",
   "name": "python",
   "nbconvert_exporter": "python",
   "pygments_lexer": "ipython3",
   "version": "3.12.3"
  }
 },
 "nbformat": 4,
 "nbformat_minor": 2
}
