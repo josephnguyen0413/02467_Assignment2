{
 "cells": [
  {
   "cell_type": "markdown",
   "metadata": {},
   "source": [
    "# Assignment 2\n",
    "> **Github repository**: [Assignment 2](https://github.com/josephnguyen0413/02467_Assignment2)\n",
    ">\n",
    "> **Group members**:\n",
    "> - Rune Harlyk (s234814)\n",
    "> - Joseph Nguyen (s234826)\n",
    "> - Julius Winkel (s234862)\n",
    "\n",
    "We have all worked together on the code and answering questions."
   ]
  },
  {
   "cell_type": "markdown",
   "metadata": {},
   "source": [
    "## Part 0"
   ]
  },
  {
   "cell_type": "code",
   "execution_count": 68,
   "metadata": {},
   "outputs": [],
   "source": [
    "import networkx as nx\n",
    "import json\n",
    "import numpy as np\n",
    "import pandas as pd\n",
    "from tqdm.notebook import tqdm \n",
    "import netwulf as nw\n",
    "import matplotlib.pyplot as plt\n",
    "import seaborn as sns\n",
    "import random\n",
    "from joblib import delayed, Parallel\n",
    "from collections import defaultdict\n",
    "from community import community_louvain\n",
    "from wordcloud import WordCloud\n",
    "import ast\n",
    "from functools import lru_cache\n",
    "# import nltk.book as book\n",
    "from nltk import PorterStemmer\n",
    "import nltk\n",
    "import re\n",
    "sns.set_theme(style=\"darkgrid\")\n",
    "from nltk.corpus import stopwords\n",
    "seed = 42\n",
    "np.random.seed(seed)\n",
    "random.seed(seed)"
   ]
  },
  {
   "cell_type": "code",
   "execution_count": 65,
   "metadata": {},
   "outputs": [
    {
     "name": "stderr",
     "output_type": "stream",
     "text": [
      "[nltk_data] Downloading package stopwords to\n",
      "[nltk_data]     C:\\Users\\juliu\\AppData\\Roaming\\nltk_data...\n",
      "[nltk_data]   Package stopwords is already up-to-date!\n"
     ]
    },
    {
     "data": {
      "text/plain": [
       "True"
      ]
     },
     "execution_count": 65,
     "metadata": {},
     "output_type": "execute_result"
    }
   ],
   "source": [
    "nltk.download('stopwords')"
   ]
  },
  {
   "cell_type": "markdown",
   "metadata": {},
   "source": [
    "## Part 1: Properties of the real-world network of Computational Social Scientists"
   ]
  },
  {
   "cell_type": "markdown",
   "metadata": {},
   "source": [
    "> * First, calculate the probability (_p_) that makes the expected number of edges in our random network match the actual edge count in the Computational Social Scientists network. Refer to equation 3.2 in your Network Science textbook for guidance. After finding _p_, figure out the average degree (using the given formula). "
   ]
  },
  {
   "cell_type": "markdown",
   "metadata": {},
   "source": [
    "$$ p = \\frac{2L}{N(N-1)} $$\n",
    "\n",
    "$$ k = p(N-1) $$"
   ]
  },
  {
   "cell_type": "code",
   "execution_count": 25,
   "metadata": {},
   "outputs": [
    {
     "name": "stdout",
     "output_type": "stream",
     "text": [
      "Number of nodes: 14139, Number of edges: 57661\n"
     ]
    },
    {
     "name": "stderr",
     "output_type": "stream",
     "text": [
      "c:\\Users\\juliu\\Miniconda3\\Lib\\site-packages\\networkx\\readwrite\\json_graph\\node_link.py:287: FutureWarning: \n",
      "The default value will be changed to `edges=\"edges\" in NetworkX 3.6.\n",
      "\n",
      "To make this warning go away, explicitly set the edges kwarg, e.g.:\n",
      "\n",
      "  nx.node_link_graph(data, edges=\"links\") to preserve current behavior, or\n",
      "  nx.node_link_graph(data, edges=\"edges\") for forward compatibility.\n",
      "  warnings.warn(\n"
     ]
    }
   ],
   "source": [
    "def load_graph(graph_file):\n",
    "    with open(graph_file, \"r\") as f:\n",
    "        data = json.load(f)\n",
    "    G = nx.readwrite.json_graph.node_link_graph(data)\n",
    "    return G\n",
    "\n",
    "graph_file = \"ic2s2_coauthors_graph.json\"\n",
    "G = load_graph(graph_file)\n",
    "N = G.number_of_nodes()\n",
    "L = G.number_of_edges()\n",
    "print(f\"Number of nodes: {N}, Number of edges: {L}\")"
   ]
  },
  {
   "cell_type": "code",
   "execution_count": 8,
   "metadata": {},
   "outputs": [
    {
     "name": "stdout",
     "output_type": "stream",
     "text": [
      "Edge probability: 0.0006, Expected degree: 8.1563\n"
     ]
    }
   ],
   "source": [
    "def edge_prob(N, L):\n",
    "    return (2 * L) / (N * (N - 1))\n",
    "\n",
    "def expected_degree(p, N):\n",
    "    return p * (N - 1)\n",
    "\n",
    "p = edge_prob(N, L)\n",
    "k = expected_degree(p, N)\n",
    "print(f\"Edge probability: {p:.4f}, Expected degree: {k:.4f}\")"
   ]
  },
  {
   "cell_type": "markdown",
   "metadata": {},
   "source": [
    "> * Now, write a function to generate a Random Network that mirrors the Computational Social Scientists network in terms of node count, using your calculated _p_. Generate a random network by linking nodes in every possible pair with probability _p_. **Hint**: you can use the function [``np.random.uniform``](https://numpy.org/doc/stable/reference/random/generated/numpy.random.uniform.html) to draw samples from a uniform probability distribution.   "
   ]
  },
  {
   "cell_type": "code",
   "execution_count": 9,
   "metadata": {},
   "outputs": [
    {
     "name": "stdout",
     "output_type": "stream",
     "text": [
      "Number of nodes for random network: 14139, Number of edges for random network: 57596\n"
     ]
    }
   ],
   "source": [
    "def random_network(G, seed = 42):\n",
    "    random.seed(seed)\n",
    "    N = G.number_of_nodes()\n",
    "    L = G.number_of_edges()\n",
    "    p = edge_prob(N, L)\n",
    "    G_random = nx.erdos_renyi_graph(N, p, seed=seed)\n",
    "    country_codes = [data['country_code'] for _, data in G.nodes(data=True) if 'country_code' in data]\n",
    "    nx.set_node_attributes(G_random, {n: {'country_code': random.choice(country_codes)} for n in G_random})\n",
    "    return G_random\n",
    "\n",
    "G_random = random_network(G, seed)\n",
    "print(f\"Number of nodes for random network: {G_random.number_of_nodes()}, Number of edges for random network: {G_random.number_of_edges()}\")"
   ]
  },
  {
   "cell_type": "markdown",
   "metadata": {},
   "source": [
    "> * Visualize the network as you did for the Computational Social Scientists network in the exercise above (my version is below). \n"
   ]
  },
  {
   "cell_type": "code",
   "execution_count": 5,
   "metadata": {},
   "outputs": [
    {
     "ename": "TypeError",
     "evalue": "'NoneType' object is not subscriptable",
     "output_type": "error",
     "traceback": [
      "\u001b[1;31m---------------------------------------------------------------------------\u001b[0m",
      "\u001b[1;31mTypeError\u001b[0m                                 Traceback (most recent call last)",
      "Cell \u001b[1;32mIn[5], line 4\u001b[0m\n\u001b[0;32m      1\u001b[0m network, config \u001b[38;5;241m=\u001b[39m nw\u001b[38;5;241m.\u001b[39mvisualize(G_random)\n\u001b[0;32m      3\u001b[0m \u001b[38;5;66;03m# draw links only at first\u001b[39;00m\n\u001b[1;32m----> 4\u001b[0m \u001b[43mnw\u001b[49m\u001b[38;5;241;43m.\u001b[39;49m\u001b[43mdraw_netwulf\u001b[49m\u001b[43m(\u001b[49m\u001b[43mnetwork\u001b[49m\u001b[43m)\u001b[49m\n",
      "File \u001b[1;32mc:\\Python312\\Lib\\site-packages\\netwulf\\tools.py:369\u001b[0m, in \u001b[0;36mdraw_netwulf\u001b[1;34m(network_properties, fig, ax, figsize, draw_links, draw_nodes, link_zorder, node_zorder)\u001b[0m\n\u001b[0;32m    367\u001b[0m ax\u001b[38;5;241m.\u001b[39maxis(\u001b[38;5;124m'\u001b[39m\u001b[38;5;124moff\u001b[39m\u001b[38;5;124m'\u001b[39m)\n\u001b[0;32m    368\u001b[0m ax\u001b[38;5;241m.\u001b[39mmargins(\u001b[38;5;241m0\u001b[39m)\n\u001b[1;32m--> 369\u001b[0m ax\u001b[38;5;241m.\u001b[39mset_xlim(\u001b[43mnetwork_properties\u001b[49m\u001b[43m[\u001b[49m\u001b[38;5;124;43m'\u001b[39;49m\u001b[38;5;124;43mxlim\u001b[39;49m\u001b[38;5;124;43m'\u001b[39;49m\u001b[43m]\u001b[49m)\n\u001b[0;32m    370\u001b[0m ax\u001b[38;5;241m.\u001b[39mset_ylim(network_properties[\u001b[38;5;124m'\u001b[39m\u001b[38;5;124mylim\u001b[39m\u001b[38;5;124m'\u001b[39m])\n\u001b[0;32m    371\u001b[0m bbox \u001b[38;5;241m=\u001b[39m ax\u001b[38;5;241m.\u001b[39mget_window_extent()\u001b[38;5;241m.\u001b[39mtransformed(fig\u001b[38;5;241m.\u001b[39mdpi_scale_trans\u001b[38;5;241m.\u001b[39minverted())\n",
      "\u001b[1;31mTypeError\u001b[0m: 'NoneType' object is not subscriptable"
     ]
    },
    {
     "data": {
      "image/png": "[encoded data removed]",
      "text/plain": [
       "<Figure size 480x480 with 1 Axes>"
      ]
     },
     "metadata": {},
     "output_type": "display_data"
    }
   ],
   "source": [
    "network, config = nw.visualize(G_random)\n",
    "\n",
    "# draw links only at first\n",
    "nw.draw_netwulf(network)"
   ]
  },
  {
   "cell_type": "markdown",
   "metadata": {},
   "source": [
    "> * Answer the following questions __(max 200 words in total)__: \n",
    ">    - What regime does your random network fall into? Is it above or below the critical threshold?  \n",
    ">    - According to the textbook, what does the network's structure resemble in this regime?  \n",
    ">    - Based on your visualizations, identify the key differences between the actual and the random networks. Explain whether these differences are consistent with theoretical expectations."
   ]
  },
  {
   "cell_type": "code",
   "execution_count": 10,
   "metadata": {},
   "outputs": [
    {
     "name": "stdout",
     "output_type": "stream",
     "text": [
      "p: 0.0006, p_critical: 0.0001\n"
     ]
    }
   ],
   "source": [
    "L_random = G_random.number_of_edges()\n",
    "p_random = edge_prob(N, L_random)\n",
    "p_c = 1 / N\n",
    "print(f'p: {p_random:.4f}, p_critical: {p_c:.4f}')"
   ]
  },
  {
   "cell_type": "markdown",
   "metadata": {},
   "source": [
    "- Since $p \\gt p_c$, the random network is a supercritical regime according to section 3.6 in the book \"Network Science\". That means the random network is above the critical threshold. \n",
    "- $\\dots$\n",
    "- One property of real-world networks are that they are heavy tailed distributions. In our case, the top author in the real network had a degree of 339, but for the random network, the top author only has a degree of 22."
   ]
  },
  {
   "cell_type": "markdown",
   "metadata": {},
   "source": [
    "> 2. _Shortest Paths_: Here, we will check if the Computational Social Scientists Network exhibits characteristics of a small-world network by analyzing its shortest paths.\n",
    "> * Begin by identifying the largest connected component within the Computational Social Scientists network. Recall that a connected component is a subset of nodes in which every pair of nodes is connected by a path. For a refresher on connected components, see section 2.9 of the Network Science book. Follow these steps:\n",
    ">    - Utilize [``nx.algorithms.connected_components``](https://networkx.org/documentation/stable//reference/algorithms/generated/networkx.algorithms.components.connected_components.html) to enumerate all connected components, which will be returned as a list of node subsets.\n",
    ">    - Select the largest subset of nodes identified in the previous step. Then, create a subgraph of your original network that includes only these nodes, using [``nx.Graph.subgraph``](https://networkx.org/documentation/stable/reference/classes/generated/networkx.Graph.subgraph.html). This subset forms your largest connected component, sometimes referred to as the [giant component](https://en.wikipedia.org/wiki/Giant_component).\n"
   ]
  },
  {
   "cell_type": "code",
   "execution_count": 11,
   "metadata": {},
   "outputs": [],
   "source": [
    "cc = nx.algorithms.connected_components(G)\n",
    "largest_cc = max(cc, key=len)\n",
    "giant_component = G.subgraph(largest_cc).copy()"
   ]
  },
  {
   "cell_type": "markdown",
   "metadata": {},
   "source": [
    "> * Calculate the average (unweighted) shortest path length within this giant component by employing [``nx.average_shortest_path_length``](https://networkx.org/documentation/networkx-1.3/reference/generated/networkx.average_shortest_path_length.html)."
   ]
  },
  {
   "cell_type": "code",
   "execution_count": 8,
   "metadata": {},
   "outputs": [
    {
     "data": {
      "text/plain": [
       "5.168259510783142"
      ]
     },
     "execution_count": 8,
     "metadata": {},
     "output_type": "execute_result"
    }
   ],
   "source": [
    "nx.average_shortest_path_length(giant_component) "
   ]
  },
  {
   "cell_type": "markdown",
   "metadata": {},
   "source": [
    "\n",
    "> * Perform the same calculation for the giant component of the random network you constructed in the above exercise 1.\n"
   ]
  },
  {
   "cell_type": "code",
   "execution_count": 12,
   "metadata": {},
   "outputs": [
    {
     "name": "stdout",
     "output_type": "stream",
     "text": [
      "Edge probability: 0.0006, Expected degree: 8.3073\n"
     ]
    }
   ],
   "source": [
    "N = giant_component.number_of_nodes()\n",
    "L = giant_component.number_of_edges()\n",
    "p = edge_prob(N, L)\n",
    "k = expected_degree(p, N)\n",
    "print(f\"Edge probability: {p:.4f}, Expected degree: {k:.4f}\")"
   ]
  },
  {
   "cell_type": "markdown",
   "metadata": {},
   "source": [
    "\n",
    "> * Reflect on how the average shortest path lengths of the real and random networks compare and answer the following questions, supporting your answers with the theory from the book.\n",
    ">   - Why do you think I asked you to consider the giant component only?\n",
    ">   - Why do you think I asked you to consider unweighted edges?\n",
    ">   - Does the Computational Social Scientists network exhibit the small-world phenomenon?"
   ]
  },
  {
   "cell_type": "markdown",
   "metadata": {},
   "source": [
    "## Part 2 Network Analysis in Computational Social Science"
   ]
  },
  {
   "cell_type": "markdown",
   "metadata": {},
   "source": [
    "> __Exercise 1: Mixing Patterns and Assortativity__ \n",
    ">\n"
   ]
  },
  {
   "cell_type": "markdown",
   "metadata": {},
   "source": [
    "> __Part 1: Assortativity Coefficient__ \n",
    "> 1. *Calculate the Assortativity Coefficient* for the network based on the country of each node. Implement the calculation using the formula provided during the lecture, also available in [this paper](https://arxiv.org/pdf/cond-mat/0209450.pdf) (equation 2, here for directed networks). **Do not use the NetworkX implementation.**\n",
    ">\n"
   ]
  },
  {
   "cell_type": "markdown",
   "metadata": {},
   "source": [
    "We use the formula:"
   ]
  },
  {
   "cell_type": "markdown",
   "metadata": {},
   "source": [
    "$$\n",
    "r = \\frac{\\sum_i e_{ii} - \\sum_i a_i b_i}{1 - \\sum_i a_i b_i}\n",
    "$$\n"
   ]
  },
  {
   "cell_type": "code",
   "execution_count": 13,
   "metadata": {},
   "outputs": [
    {
     "name": "stdout",
     "output_type": "stream",
     "text": [
      "Assortativity coefficient: 0.3882\n"
     ]
    }
   ],
   "source": [
    "def assortativity_coefficient(G, attribute):\n",
    "    mixing_matrix = nx.attribute_mixing_matrix(G, attribute) \n",
    "\n",
    "    # Sum by row to get a_i\n",
    "    ai = np.sum(mixing_matrix, axis=0)\n",
    "\n",
    "    # sum by column to get b_i\n",
    "    bi = np.sum(mixing_matrix, axis=1)\n",
    "\n",
    "    # Diagonal from mixing matrix to get e_ii\n",
    "    eii = np.trace(mixing_matrix)\n",
    "    r = (eii - np.sum(ai*bi)) / (1 - np.sum(ai*bi))\n",
    "    return r\n",
    "\n",
    "r = assortativity_coefficient(G, 'country_code')\n",
    "print(f\"Assortativity coefficient: {r:.4f}\")"
   ]
  },
  {
   "cell_type": "markdown",
   "metadata": {},
   "source": [
    "> __Part 2: Configuration model__\n",
    "> In the following, we are going to assess the significance of the assortativity by comparing the network's assortativity coefficient against that of random networks generated through the configuration model.  \n",
    ">\n",
    "> 2. *Implement the configuration model* using the _double edge swap_ algorithm to generate random networks. Ensure each node retains its original degree but with altered connections. Create a function that does that by following these steps:\n",
    ">   - **a.** Create an exact copy of your original network.\n",
    ">   - **b.** Select two edges, $e_{1} = (u,v)$ and $e_{2} = (x,y)$, ensuring *u != y* and *v != x*.\n",
    ">   - **c.** Flip the direction of $e_{1}$ to $e_{1} = (v,u)$ 50% of the time. This ensure that your final results is not biased, in case your edges were sorted (they usually are). \n",
    ">   - **d.** Ensure that new edges $e_{1}' = (e_{1}[0],e_{2}[1])$ and $e_{2}' = (e_{2}[0],e_{1}[1])$ do not already exist in the network.\n",
    ">   - **e.** Remove edges $e_{1}$ and $e_{2}$ and add edges $e_{1}'$ and $e_{2}'$.\n",
    ">   - **f.** Repeat steps **b** to **e** until you have performed _E*10_ swaps, where E is the total number of edges.\n"
   ]
  },
  {
   "cell_type": "code",
   "execution_count": 14,
   "metadata": {},
   "outputs": [
    {
     "data": {
      "text/plain": [
       "0.0008190055386686307"
      ]
     },
     "execution_count": 14,
     "metadata": {},
     "output_type": "execute_result"
    }
   ],
   "source": [
    "def double_edge_swap(G):\n",
    "    H = G.copy()\n",
    "    E = H.number_of_edges()\n",
    "    total_swaps = E * 10\n",
    "    edges = list(H.edges())\n",
    "    swaps = 0\n",
    "    while swaps < total_swaps:\n",
    "        i, j = random.sample(range(E), 2)\n",
    "        u, v = edges[i]\n",
    "        x, y = edges[j]\n",
    "        if random.random() < 0.5:\n",
    "            u, v = v, u\n",
    "        if u == y or v == x or H.has_edge(u, y) or H.has_edge(x, v):\n",
    "            continue\n",
    "        H.remove_edge(u, v)\n",
    "        H.remove_edge(x, y)\n",
    "        H.add_edge(u, y)\n",
    "        H.add_edge(x, v)\n",
    "        edges[i] = (u, y)\n",
    "        edges[j] = (x, v)\n",
    "        swaps += 1\n",
    "    return H\n",
    "\n",
    "H = double_edge_swap(G)\n",
    "assortativity_coefficient(H, 'country_code')"
   ]
  },
  {
   "cell_type": "markdown",
   "metadata": {},
   "source": [
    "\n",
    "> 3. *Double check that your algorithm works well*, by showing that the degree of nodes in the original network and the new 'randomized' version of the network are the same.\n",
    ">\n",
    ">\n"
   ]
  },
  {
   "cell_type": "code",
   "execution_count": 15,
   "metadata": {},
   "outputs": [
    {
     "name": "stdout",
     "output_type": "stream",
     "text": [
      "Degrees preserved: True\n"
     ]
    }
   ],
   "source": [
    "orig_degrees = dict(G.degree())\n",
    "rand_degrees = dict(H.degree())\n",
    "print(\"Degrees preserved:\", all(orig_degrees[node] == rand_degrees[node] for node in G.nodes()))"
   ]
  },
  {
   "cell_type": "markdown",
   "metadata": {},
   "source": [
    "> __Part 3: Analyzing Assortativity in Random Networks__  \n",
    ">\n",
    "> 4. *Generate and analyze at least 100 random networks* using the configuration model. For each, calculate the assortativity with respect to the country and plot the distribution of these values. Compare the results with the assortativity of your original network to determine if connections within the same country are significantly higher than chance.\n",
    ">"
   ]
  },
  {
   "cell_type": "code",
   "execution_count": 13,
   "metadata": {},
   "outputs": [],
   "source": [
    "# TODO: Delete whole code cell \n",
    "\n",
    "# def plot_by_country(G):\n",
    "#     r_values = []\n",
    "#     for i in range(5):\n",
    "#         G_random = random_network(G, seed = i)\n",
    "#         print(nx.attribute_assortativity_coefficient(G_random, 'country_code'))\n",
    "#         r_values.append(nx.attribute_assortativity_coefficient(G_random, 'country_code'))\n",
    "#     plt.hist(r_values)\n",
    "\n",
    "# plot_by_country(G)"
   ]
  },
  {
   "cell_type": "markdown",
   "metadata": {},
   "source": [
    "Getting assortativity coefficients from 100 random networks"
   ]
  },
  {
   "cell_type": "code",
   "execution_count": 16,
   "metadata": {},
   "outputs": [
    {
     "data": {
      "application/vnd.jupyter.widget-view+json": {
       "model_id": "95d75cf2f9d446dd9aad58f19f274c78",
       "version_major": 2,
       "version_minor": 0
      },
      "text/plain": [
       "Assortativity for random graphs:   0%|          | 0/100 [00:00<?, ?it/s]"
      ]
     },
     "metadata": {},
     "output_type": "display_data"
    }
   ],
   "source": [
    "def assortativity_by_country(seed, G):\n",
    "    G_random = random_network(G, seed=seed)\n",
    "    return assortativity_coefficient(G_random, 'country_code')\n",
    "\n",
    "def parallel_r_values(G, n_iters=100, n_jobs=-1):\n",
    "    parallel_gen = Parallel(return_as=\"generator\", n_jobs=n_jobs)(delayed(assortativity_by_country)(seed, G) for seed in range(n_iters))\n",
    "    r_values = [r for r in tqdm(parallel_gen, desc=\"Assortativity for random graphs\", total=n_iters)]\n",
    "    return r_values\n",
    "\n",
    "r_values = parallel_r_values(G)"
   ]
  },
  {
   "cell_type": "markdown",
   "metadata": {},
   "source": [
    "Plotting assortativity coefficients"
   ]
  },
  {
   "cell_type": "code",
   "execution_count": 17,
   "metadata": {},
   "outputs": [
    {
     "data": {
      "image/png": "[encoded data removed]",
      "text/plain": [
       "<Figure size 640x480 with 1 Axes>"
      ]
     },
     "metadata": {},
     "output_type": "display_data"
    }
   ],
   "source": [
    "plt.hist(r_values, bins=20, alpha=0.7)\n",
    "plt.title(\"Distribution of Assortativity Values\")\n",
    "plt.xlabel(\"Assortativity\")\n",
    "plt.ylabel(\"Frequency\")\n",
    "plt.tight_layout()\n",
    "plt.show()"
   ]
  },
  {
   "cell_type": "markdown",
   "metadata": {},
   "source": [
    "> __Exercise 2: Zachary's karate club__: In this exercise, we will work on Zarachy's karate club graph (refer to the Introduction of Chapter 9). The dataset is available in NetworkX, by calling the function [karate_club_graph](https://networkx.org/documentation/stable//auto_examples/graph/plot_karate_club.html)\n",
    ">\n",
    "> 1. Visualize the graph. Set the color of each node based on the club split (the information is stored as a node attribute). My version of the visualization is below.\n"
   ]
  },
  {
   "cell_type": "code",
   "execution_count": 9,
   "metadata": {},
   "outputs": [],
   "source": [
    "G_karate = nx.karate_club_graph()\n",
    "# network, config = nw.visualize(G_karate, config={'zoom':3})"
   ]
  },
  {
   "cell_type": "markdown",
   "metadata": {},
   "source": [
    "> 2. Write a function to compute the __modularity__ of a graph partitioning (use **equation 9.12** in the book). The function should take a networkX Graph and a partitioning as inputs and return the modularity.\n"
   ]
  },
  {
   "cell_type": "code",
   "execution_count": 10,
   "metadata": {},
   "outputs": [],
   "source": [
    "def community_modularity(G, c, L):\n",
    "    s = G.subgraph(c)\n",
    "    L_c = s.number_of_edges()\n",
    "    k_c = sum(dict(s.degree()).values())\n",
    "    M_c = L_c / L - (k_c / (2 * L)) ** 2\n",
    "    return M_c\n",
    "\n",
    "def modularity(G, partitions):\n",
    "    L = G.number_of_edges()\n",
    "    return sum((community_modularity(G, c, L) for c in partitions))"
   ]
  },
  {
   "cell_type": "markdown",
   "metadata": {},
   "source": [
    "> 3. Explain in your own words the concept of _modularity_.\n"
   ]
  },
  {
   "cell_type": "markdown",
   "metadata": {},
   "source": [
    "> 4. Compute the modularity of the Karate club split partitioning using the function you just wrote. Note: the Karate club split partitioning is avilable as a [node attribute](https://networkx.org/documentation/networkx-1.10/reference/generated/networkx.classes.function.get_node_attributes.html), called _\"club\"_.\n"
   ]
  },
  {
   "cell_type": "code",
   "execution_count": 21,
   "metadata": {},
   "outputs": [
    {
     "name": "stdout",
     "output_type": "stream",
     "text": [
      "There are 2 communities\n",
      "The modularity is 0.48931623931623935\n"
     ]
    }
   ],
   "source": [
    "def partition_by_attribute(G, attribute):\n",
    "    labels = nx.get_node_attributes(G, attribute)\n",
    "    groups = defaultdict(set)\n",
    "    for node, label in labels.items():\n",
    "        groups[label].add(node)\n",
    "    return list(groups.values())\n",
    "\n",
    "\n",
    "karate_communities = partition_by_attribute(G_karate, \"club\")\n",
    "karate_modularity = modularity(G_karate, karate_communities) \n",
    "print(f\"There are {len(karate_communities)} communities\")\n",
    "print(f\"The modularity is {karate_modularity}\")"
   ]
  },
  {
   "cell_type": "markdown",
   "metadata": {},
   "source": [
    "> 5. Create $1000$ randomized version of the Karate Club network using the _double edge swap_ algorithm you wrote in the exercise above 5. For each of them, compute the modularity of the \"club\" split and store it in a list.\n"
   ]
  },
  {
   "cell_type": "code",
   "execution_count": 22,
   "metadata": {},
   "outputs": [
    {
     "ename": "ImportError",
     "evalue": "IProgress not found. Please update jupyter and ipywidgets. See https://ipywidgets.readthedocs.io/en/stable/user_install.html",
     "output_type": "error",
     "traceback": [
      "\u001b[1;31m---------------------------------------------------------------------------\u001b[0m",
      "\u001b[1;31mImportError\u001b[0m                               Traceback (most recent call last)",
      "Cell \u001b[1;32mIn[22], line 11\u001b[0m\n\u001b[0;32m      8\u001b[0m     modularity_values \u001b[38;5;241m=\u001b[39m [r \u001b[38;5;28;01mfor\u001b[39;00m r \u001b[38;5;129;01min\u001b[39;00m tqdm(parallel_gen, desc\u001b[38;5;241m=\u001b[39m\u001b[38;5;124m\"\u001b[39m\u001b[38;5;124mModularity for random graphs\u001b[39m\u001b[38;5;124m\"\u001b[39m, total\u001b[38;5;241m=\u001b[39mn_iters)]\n\u001b[0;32m      9\u001b[0m     \u001b[38;5;28;01mreturn\u001b[39;00m modularity_values\n\u001b[1;32m---> 11\u001b[0m modularity_karate_values \u001b[38;5;241m=\u001b[39m parallel_modularity_karate_networks(G_karate)\n",
      "Cell \u001b[1;32mIn[22], line 8\u001b[0m, in \u001b[0;36mparallel_modularity_karate_networks\u001b[1;34m(G, n_iters, n_jobs)\u001b[0m\n\u001b[0;32m      6\u001b[0m \u001b[38;5;28;01mdef\u001b[39;00m \u001b[38;5;21mparallel_modularity_karate_networks\u001b[39m(G, n_iters\u001b[38;5;241m=\u001b[39m\u001b[38;5;241m1000\u001b[39m, n_jobs\u001b[38;5;241m=\u001b[39m\u001b[38;5;241m-\u001b[39m\u001b[38;5;241m1\u001b[39m):\n\u001b[0;32m      7\u001b[0m     parallel_gen \u001b[38;5;241m=\u001b[39m Parallel(return_as\u001b[38;5;241m=\u001b[39m\u001b[38;5;124m\"\u001b[39m\u001b[38;5;124mgenerator\u001b[39m\u001b[38;5;124m\"\u001b[39m, n_jobs\u001b[38;5;241m=\u001b[39mn_jobs)(delayed(random_modularity)(G) \u001b[38;5;28;01mfor\u001b[39;00m _ \u001b[38;5;129;01min\u001b[39;00m \u001b[38;5;28mrange\u001b[39m(n_iters))\n\u001b[1;32m----> 8\u001b[0m     modularity_values \u001b[38;5;241m=\u001b[39m [r \u001b[38;5;28;01mfor\u001b[39;00m r \u001b[38;5;129;01min\u001b[39;00m tqdm(parallel_gen, desc\u001b[38;5;241m=\u001b[39m\u001b[38;5;124m\"\u001b[39m\u001b[38;5;124mModularity for random graphs\u001b[39m\u001b[38;5;124m\"\u001b[39m, total\u001b[38;5;241m=\u001b[39mn_iters)]\n\u001b[0;32m      9\u001b[0m     \u001b[38;5;28;01mreturn\u001b[39;00m modularity_values\n",
      "File \u001b[1;32mc:\\Users\\juliu\\Miniconda3\\Lib\\site-packages\\tqdm\\notebook.py:234\u001b[0m, in \u001b[0;36mtqdm_notebook.__init__\u001b[1;34m(self, *args, **kwargs)\u001b[0m\n\u001b[0;32m    232\u001b[0m unit_scale \u001b[38;5;241m=\u001b[39m \u001b[38;5;241m1\u001b[39m \u001b[38;5;28;01mif\u001b[39;00m \u001b[38;5;28mself\u001b[39m\u001b[38;5;241m.\u001b[39munit_scale \u001b[38;5;129;01mis\u001b[39;00m \u001b[38;5;28;01mTrue\u001b[39;00m \u001b[38;5;28;01melse\u001b[39;00m \u001b[38;5;28mself\u001b[39m\u001b[38;5;241m.\u001b[39munit_scale \u001b[38;5;129;01mor\u001b[39;00m \u001b[38;5;241m1\u001b[39m\n\u001b[0;32m    233\u001b[0m total \u001b[38;5;241m=\u001b[39m \u001b[38;5;28mself\u001b[39m\u001b[38;5;241m.\u001b[39mtotal \u001b[38;5;241m*\u001b[39m unit_scale \u001b[38;5;28;01mif\u001b[39;00m \u001b[38;5;28mself\u001b[39m\u001b[38;5;241m.\u001b[39mtotal \u001b[38;5;28;01melse\u001b[39;00m \u001b[38;5;28mself\u001b[39m\u001b[38;5;241m.\u001b[39mtotal\n\u001b[1;32m--> 234\u001b[0m \u001b[38;5;28mself\u001b[39m\u001b[38;5;241m.\u001b[39mcontainer \u001b[38;5;241m=\u001b[39m \u001b[38;5;28mself\u001b[39m\u001b[38;5;241m.\u001b[39mstatus_printer(\u001b[38;5;28mself\u001b[39m\u001b[38;5;241m.\u001b[39mfp, total, \u001b[38;5;28mself\u001b[39m\u001b[38;5;241m.\u001b[39mdesc, \u001b[38;5;28mself\u001b[39m\u001b[38;5;241m.\u001b[39mncols)\n\u001b[0;32m    235\u001b[0m \u001b[38;5;28mself\u001b[39m\u001b[38;5;241m.\u001b[39mcontainer\u001b[38;5;241m.\u001b[39mpbar \u001b[38;5;241m=\u001b[39m proxy(\u001b[38;5;28mself\u001b[39m)\n\u001b[0;32m    236\u001b[0m \u001b[38;5;28mself\u001b[39m\u001b[38;5;241m.\u001b[39mdisplayed \u001b[38;5;241m=\u001b[39m \u001b[38;5;28;01mFalse\u001b[39;00m\n",
      "File \u001b[1;32mc:\\Users\\juliu\\Miniconda3\\Lib\\site-packages\\tqdm\\notebook.py:108\u001b[0m, in \u001b[0;36mtqdm_notebook.status_printer\u001b[1;34m(_, total, desc, ncols)\u001b[0m\n\u001b[0;32m     99\u001b[0m \u001b[38;5;66;03m# Fallback to text bar if there's no total\u001b[39;00m\n\u001b[0;32m    100\u001b[0m \u001b[38;5;66;03m# DEPRECATED: replaced with an 'info' style bar\u001b[39;00m\n\u001b[0;32m    101\u001b[0m \u001b[38;5;66;03m# if not total:\u001b[39;00m\n\u001b[1;32m   (...)\u001b[0m\n\u001b[0;32m    105\u001b[0m \n\u001b[0;32m    106\u001b[0m \u001b[38;5;66;03m# Prepare IPython progress bar\u001b[39;00m\n\u001b[0;32m    107\u001b[0m \u001b[38;5;28;01mif\u001b[39;00m IProgress \u001b[38;5;129;01mis\u001b[39;00m \u001b[38;5;28;01mNone\u001b[39;00m:  \u001b[38;5;66;03m# #187 #451 #558 #872\u001b[39;00m\n\u001b[1;32m--> 108\u001b[0m     \u001b[38;5;28;01mraise\u001b[39;00m \u001b[38;5;167;01mImportError\u001b[39;00m(WARN_NOIPYW)\n\u001b[0;32m    109\u001b[0m \u001b[38;5;28;01mif\u001b[39;00m total:\n\u001b[0;32m    110\u001b[0m     pbar \u001b[38;5;241m=\u001b[39m IProgress(\u001b[38;5;28mmin\u001b[39m\u001b[38;5;241m=\u001b[39m\u001b[38;5;241m0\u001b[39m, \u001b[38;5;28mmax\u001b[39m\u001b[38;5;241m=\u001b[39mtotal)\n",
      "\u001b[1;31mImportError\u001b[0m: IProgress not found. Please update jupyter and ipywidgets. See https://ipywidgets.readthedocs.io/en/stable/user_install.html"
     ]
    }
   ],
   "source": [
    "def random_modularity(G):\n",
    "    H = double_edge_swap(G)\n",
    "    communities = partition_by_attribute(H, \"club\")\n",
    "    return modularity(H, communities)\n",
    "\n",
    "def parallel_modularity_karate_networks(G, n_iters=1000, n_jobs=-1):\n",
    "    parallel_gen = Parallel(return_as=\"generator\", n_jobs=n_jobs)(delayed(random_modularity)(G) for _ in range(n_iters))\n",
    "    modularity_values = [r for r in tqdm(parallel_gen, desc=\"Modularity for random graphs\", total=n_iters)]\n",
    "    return modularity_values\n",
    "\n",
    "modularity_karate_values = parallel_modularity_karate_networks(G_karate)"
   ]
  },
  {
   "cell_type": "markdown",
   "metadata": {},
   "source": [
    "> 6. Compute the average and standard deviation of the modularity for the random network.\n"
   ]
  },
  {
   "cell_type": "code",
   "execution_count": 8,
   "metadata": {},
   "outputs": [
    {
     "ename": "NameError",
     "evalue": "name 'modularity_karate_values' is not defined",
     "output_type": "error",
     "traceback": [
      "\u001b[1;31m---------------------------------------------------------------------------\u001b[0m",
      "\u001b[1;31mNameError\u001b[0m                                 Traceback (most recent call last)",
      "Cell \u001b[1;32mIn[8], line 1\u001b[0m\n\u001b[1;32m----> 1\u001b[0m modularity_karate_values \u001b[38;5;241m=\u001b[39m np\u001b[38;5;241m.\u001b[39marray(\u001b[43mmodularity_karate_values\u001b[49m)\n\u001b[0;32m      2\u001b[0m modularity_karate_avg \u001b[38;5;241m=\u001b[39m modularity_karate_values\u001b[38;5;241m.\u001b[39mmean()\n\u001b[0;32m      3\u001b[0m modularity_karate_std \u001b[38;5;241m=\u001b[39m modularity_karate_values\u001b[38;5;241m.\u001b[39mstd()\n",
      "\u001b[1;31mNameError\u001b[0m: name 'modularity_karate_values' is not defined"
     ]
    }
   ],
   "source": [
    "modularity_karate_values = np.array(modularity_karate_values)\n",
    "modularity_karate_avg = modularity_karate_values.mean()\n",
    "modularity_karate_std = modularity_karate_values.std()\n",
    "modularity_karate_avg, modularity_karate_std"
   ]
  },
  {
   "cell_type": "markdown",
   "metadata": {},
   "source": [
    "> 7. Plot the distribution of the \"random\" modularity. Plot the actual modularity of the club split as a vertical line (use [axvline](https://matplotlib.org/stable/api/_as_gen/matplotlib.pyplot.axvline.html)).\n"
   ]
  },
  {
   "cell_type": "code",
   "execution_count": 31,
   "metadata": {},
   "outputs": [
    {
     "data": {
      "image/png": "[encoded data removed]",
      "text/plain": [
       "<Figure size 640x480 with 1 Axes>"
      ]
     },
     "metadata": {},
     "output_type": "display_data"
    }
   ],
   "source": [
    "plt.hist(modularity_karate_values, bins=10, alpha=0.7)\n",
    "plt.axvline(karate_modularity, color='red', linestyle='dashed', linewidth=2)\n",
    "plt.title(\"Random Modularity Distribution vs. Karate Club Split\")\n",
    "plt.xlabel(\"Modularity\")\n",
    "plt.ylabel(\"Frequency\")\n",
    "plt.tight_layout()\n",
    "plt.show();"
   ]
  },
  {
   "cell_type": "markdown",
   "metadata": {},
   "source": [
    "> 8. Comment on the figure. Is the club split a good partitioning? Why do you think I asked you to perform a randomization experiment? What is the reason why we preserved the nodes degree?\n"
   ]
  },
  {
   "cell_type": "markdown",
   "metadata": {},
   "source": [
    "> 9.  Use [the Python Louvain-algorithm implementation](https://anaconda.org/auto/python-louvain) to find communities in this graph. Report the value of modularity found by the algorithm. Is it higher or lower than what you found above for the club split? What does this comparison reveal?\n"
   ]
  },
  {
   "cell_type": "code",
   "execution_count": null,
   "metadata": {},
   "outputs": [
    {
     "name": "stdout",
     "output_type": "stream",
     "text": [
      "The modularity is 0.5498027613412229\n"
     ]
    }
   ],
   "source": [
    "def louvain_partitions(G):\n",
    "    partition = community_louvain.best_partition(G)\n",
    "    groups = defaultdict(set)\n",
    "    for node, comm in partition.items():\n",
    "        groups[comm].add(node)\n",
    "    return list(groups.values())\n",
    "\n",
    "karate_louvain_partitions = louvain_partitions(G_karate)\n",
    "karate_louvain_modularity = modularity(G_karate, karate_louvain_partitions)\n",
    "print(f\"The modularity is {karate_louvain_modularity}  with {len(karate_louvain_partitions)}\")"
   ]
  },
  {
   "cell_type": "markdown",
   "metadata": {},
   "source": [
    "> 10.  Compare the communities found by the Louvain algorithm with the club split partitioning by creating a matrix **_D_** with dimension (2 times _A_), where _A_ is the number of communities found by Louvain. We set entry _D_(_i_,_j_) to be the number of nodes that community _i_ has in common with group split _j_. The matrix **_D_** is what we call a [**confusion matrix**](https://en.wikipedia.org/wiki/Confusion_matrix). Use the confusion matrix to explain how well the communities you've detected correspond to the club split partitioning."
   ]
  },
  {
   "cell_type": "code",
   "execution_count": null,
   "metadata": {},
   "outputs": [],
   "source": [
    "def confusion_matrix(partition1, partition2):\n",
    "    n_cum1, n_cum2 = len(partition1), len(partition2)\n",
    "    confusion_matrix = np.zeros((n_cum1, n_cum2))\n",
    "    for i, comunity1 in enumerate(partition1):\n",
    "        for j, comunity2 in enumerate(partition2):\n",
    "            confusion_matrix[i, j] = len(set(comunity1) & set(comunity2))\n",
    "\n",
    "    return confusion_matrix\n",
    "\n",
    "karate_confusion_matrix = confusion_matrix(karate_communities, karate_louvain_partitions)\n",
    "\n",
    "sns.heatmap(karate_confusion_matrix, annot=True,\n",
    "    yticklabels=[f'Club {i+1}' for i in range(len(karate_communities))],\n",
    "    xticklabels=[f'Louvain {i+1}' for i in range(len(karate_louvain_partitions))]\n",
    ")\n",
    "plt.title('Confusion Matrix: Louvain Communities vs Club Split')\n",
    "plt.xlabel('Club Split')\n",
    "plt.ylabel('Louvain Communities')\n",
    "plt.tight_layout()\n",
    "plt.show()"
   ]
  },
  {
   "cell_type": "markdown",
   "metadata": {},
   "source": [
    "## Part 3 - Words that characterize Computational Social Science communities"
   ]
  },
  {
   "cell_type": "markdown",
   "metadata": {},
   "source": [
    "#### Week 6, Exercise 4"
   ]
  },
  {
   "cell_type": "code",
   "execution_count": null,
   "metadata": {},
   "outputs": [],
   "source": [
    "G_louvain_partitions = louvain_partitions(G)\n",
    "# G_louvain_modularity = modularity(G, G_louvain_partitions)\n",
    "# TODO: Store the partitions in a df with author degrees"
   ]
  },
  {
   "cell_type": "markdown",
   "metadata": {},
   "source": [
    "#### Week 7 (tokenized abstract dataframe)"
   ]
  },
  {
   "cell_type": "code",
   "execution_count": 79,
   "metadata": {},
   "outputs": [],
   "source": [
    "abstracts_df = pd.read_csv(\"final_abstracts.csv\")\n",
    "abstracts_df[\"abstract_inverted_index\"] = abstracts_df[\"abstract_inverted_index\"].apply(\n",
    "    lambda x: ast.literal_eval(x) if pd.notna(x) else {}\n",
    ")"
   ]
  },
  {
   "cell_type": "code",
   "execution_count": 80,
   "metadata": {},
   "outputs": [],
   "source": [
    "def invert_to_text(inverted_index):\n",
    "    if not inverted_index:\n",
    "        return ''\n",
    "    lenght = max(i for p in inverted_index.values() for i in p) + 1\n",
    "    text = [''] * lenght\n",
    "    for word, positions in inverted_index.items():\n",
    "        for i in positions:\n",
    "            text[i] = word\n",
    "    return \" \".join(text)\n",
    "\n",
    "# Apply inverted_index function to df\n",
    "abstracts_df[\"text\"] = abstracts_df[\"abstract_inverted_index\"].apply(invert_to_text)"
   ]
  },
  {
   "cell_type": "code",
   "execution_count": 81,
   "metadata": {},
   "outputs": [],
   "source": [
    "stemmer = PorterStemmer()\n",
    "pattern = re.compile(r'https?://\\S+|[^a-z\\s]')\n",
    "stop_words = stopwords.words('english')\n",
    "\n",
    "@lru_cache(maxsize=10000)\n",
    "def cached_stem(word):\n",
    "    return stemmer.stem(word)\n",
    "\n",
    "def tokenize(text, stem=True):\n",
    "    text = text.lower()\n",
    "    text = pattern.sub('', text)\n",
    "    tokens = text.split()\n",
    "    tokens = [token for token in tokens if token not in stop_words]\n",
    "    return [stemmer.stem(t) for t in tokens] if stem else tokens"
   ]
  },
  {
   "cell_type": "markdown",
   "metadata": {},
   "source": [
    "# TODO - skriv om stemming of tokenize strategi\n",
    "\n",
    "\n",
    "    Revisit Chapter 3 if you're unfamiliar with tokenization.\n",
    "    Exclude punctuation, URLs, mathematical symbols, and numbers.\n",
    "    Convert all text to lowercase.\n",
    "    Optional: Consider using stemming.\n"
   ]
  },
  {
   "cell_type": "code",
   "execution_count": 82,
   "metadata": {},
   "outputs": [],
   "source": [
    "abstracts_df[\"tokens\"] = abstracts_df[\"text\"].apply(tokenize)\n",
    "tokens = abstracts_df[\"tokens\"].explode()\n",
    "len(tokens)"
   ]
  },
  {
   "cell_type": "code",
   "execution_count": 83,
   "metadata": {},
   "outputs": [
    {
     "data": {
      "text/plain": [
       "2962444"
      ]
     },
     "execution_count": 83,
     "metadata": {},
     "output_type": "execute_result"
    }
   ],
   "source": [
    "len(tokens)"
   ]
  },
  {
   "cell_type": "markdown",
   "metadata": {},
   "source": [
    "## Bigrams"
   ]
  },
  {
   "cell_type": "code",
   "execution_count": null,
   "metadata": {},
   "outputs": [],
   "source": []
  },
  {
   "cell_type": "markdown",
   "metadata": {},
   "source": [
    "These exercises are taken from Week 8\n",
    "> __Exercise 1: TF-IDF and the Computational Social Science communities.__ The goal for this exercise is to find the words charachterizing each of the communities of Computational Social Scientists.\n",
    "> What you need for this exercise: \n",
    ">    * The assignment of each author to their network community, and the degree of each author (Week 6, Exercise 4). This can be stored in a dataframe or in two dictionaries, as you prefer.  \n",
    ">    * the tokenized _abstract_ dataframe (Week 7, Exercise 2)\n",
    ">\n",
    "\n"
   ]
  },
  {
   "cell_type": "markdown",
   "metadata": {},
   "source": [
    "\n",
    "> 1. First, check out [the wikipedia page for TF-IDF](https://en.wikipedia.org/wiki/Tf%E2%80%93idf). Explain in your own words the point of TF-IDF. \n",
    ">   * What does TF stand for? \n",
    ">   * What does IDF stand for?\n"
   ]
  },
  {
   "cell_type": "markdown",
   "metadata": {},
   "source": [
    "TF stands for term frequency, meaning how frequent a term appears in a document. \n",
    "\n",
    "IDF stand for inverse document frequency, which is how unique a term is across all documents. As it is inverse the more frequent the lower the score."
   ]
  },
  {
   "cell_type": "markdown",
   "metadata": {},
   "source": [
    "\n",
    "> 2. Now, we want to find out which words are important for each *community*, so we're going to create several ***large documents, one for each community***. Each document includes all the tokens of abstracts written by members of a given community. \n",
    ">   * Consider a community _c_\n",
    ">   * Find all the abstracts of papers written by a member of community _c_.\n",
    ">   * Create a long array that stores all the abstract tokens \n",
    ">   * Repeat for all the communities. \n",
    "> __Note:__ Here, to ensure your code is efficient, you shall exploit ``pandas`` builtin functions, such as [``groupby.apply``](https://pandas.pydata.org/docs/reference/api/pandas.core.groupby.GroupBy.apply.html) or [``explode``](https://pandas.pydata.org/docs/reference/api/pandas.DataFrame.explode.html).\n"
   ]
  },
  {
   "cell_type": "code",
   "execution_count": null,
   "metadata": {},
   "outputs": [],
   "source": []
  },
  {
   "cell_type": "markdown",
   "metadata": {},
   "source": [
    "\n",
    "> 3. Now, we're ready to calculate the TF for each word. Use the method of your choice to find the top 5 terms within the __top 5 communities__ (by number of authors). \n",
    ">   * Describe similarities and differences between the communities.\n",
    ">   * Why aren't the TFs not necessarily a good description of the communities?\n",
    ">   * Next, we calculate IDF for every word. \n",
    ">   * What base logarithm did you use? Is that important?\n"
   ]
  },
  {
   "cell_type": "markdown",
   "metadata": {},
   "source": [
    "\n",
    "> 4. We're ready to calculate TF-IDF. Do that for the __top 9 communities__ (by number of authors). Then for each community: \n",
    ">   * List the 10 top TF words \n",
    ">   * List the 10 top TF-IDF words\n",
    ">   * List the top 3 authors (by degree)\n",
    ">   * Are these 10 words more descriptive of the community? If yes, what is it about IDF that makes the words more informative?\n",
    "\n"
   ]
  },
  {
   "cell_type": "markdown",
   "metadata": {},
   "source": [
    "* TF\n",
    "* IDF"
   ]
  },
  {
   "cell_type": "markdown",
   "metadata": {},
   "source": [
    "> 2. Now, we want to find out which words are important for each *community*, so we're going to create several ***large documents, one for each community***. Each document includes all the tokens of abstracts written by members of a given community. \n",
    ">   * Consider a community _c_\n",
    ">   * Find all the abstracts of papers written by a member of community _c_.\n",
    ">   * Create a long array that stores all the abstract tokens \n",
    ">   * Repeat for all the communities. \n",
    "> __Note:__ Here, to ensure your code is efficient, you shall exploit ``pandas`` builtin functions, such as [``groupby.apply``](https://pandas.pydata.org/docs/reference/api/pandas.core.groupby.GroupBy.apply.html) or [``explode``](https://pandas.pydata.org/docs/reference/api/pandas.DataFrame.explode.html).\n"
   ]
  },
  {
   "cell_type": "markdown",
   "metadata": {},
   "source": [
    "> 3. Now, we're ready to calculate the TF for each word. Use the method of your choice to find the top 5 terms within the __top 5 communities__ (by number of authors). \n",
    ">   * Describe similarities and differences between the communities.\n",
    ">   * Why aren't the TFs not necessarily a good description of the communities?\n",
    ">   * Next, we calculate IDF for every word. \n",
    ">   * What base logarithm did you use? Is that important?\n"
   ]
  },
  {
   "cell_type": "markdown",
   "metadata": {},
   "source": [
    "> 4. We're ready to calculate TF-IDF. Do that for the __top 9 communities__ (by number of authors). Then for each community: \n",
    ">   * List the 10 top TF words \n",
    ">   * List the 10 top TF-IDF words\n",
    ">   * List the top 3 authors (by degree)\n",
    ">   * Are these 10 words more descriptive of the community? If yes, what is it about IDF that makes the words more informative?"
   ]
  },
  {
   "cell_type": "markdown",
   "metadata": {},
   "source": [
    "\n",
    " __Exercise 2: The Wordcloud__. It's time to visualize our results!\n",
    "\n",
    "> * Install the [`WordCloud`](https://pypi.org/project/wordcloud/) module. \n",
    "> * Now, create word-cloud for each community. Feel free to make it as fancy or non-fancy as you like.\n",
    "> * Make sure that, together with the word cloud, you print the names of the top three authors in each community (see my plot above for inspiration). \n",
    "> * Comment on your results. What can you conclude on the different sub-communities in Computational Social Science? \n",
    "> * Look up online the top author in each community. In light of your search, do your results make sense?\n",
    "\n",
    " "
   ]
  },
  {
   "cell_type": "markdown",
   "metadata": {},
   "source": [
    "__Exercise 3: Computational Social Science__ \n",
    "\n",
    "> * Go back to Week 1, Exercise 1. Revise what you wrote on the topics in Computational Social Science. \n",
    "> * In light of your data-driven analysis, has your understanding of the field changed? How? __(max 150 words)__"
   ]
  }
 ],
 "metadata": {
  "kernelspec": {
   "display_name": "base",
   "language": "python",
   "name": "python3"
  },
  "language_info": {
   "codemirror_mode": {
    "name": "ipython",
    "version": 3
   },
   "file_extension": ".py",
   "mimetype": "text/x-python",
   "name": "python",
   "nbconvert_exporter": "python",
   "pygments_lexer": "ipython3",
   "version": "3.12.3"
  }
 },
 "nbformat": 4,
 "nbformat_minor": 2
}
