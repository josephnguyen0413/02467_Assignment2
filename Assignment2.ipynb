{
 "cells": [
  {
   "cell_type": "markdown",
   "metadata": {},
   "source": [
    "# Assignment 2\n",
    "> **Github repository**: [SKAL OPDATERES](https://github.com/JulWin24/02467_Assignment1)\n",
    ">\n",
    "> **Group members**:\n",
    "> - Rune Harlyk (s234814)\n",
    "> - Joseph Nguyen (s234826)\n",
    "> - Julius Winkel (s234862)\n",
    "\n",
    "We have all worked together on the code and answering questions."
   ]
  },
  {
   "cell_type": "markdown",
   "metadata": {},
   "source": [
    "## Part 0"
   ]
  },
  {
   "cell_type": "code",
   "execution_count": null,
   "metadata": {},
   "outputs": [],
   "source": [
    "import networkx as nx\n",
    "import json\n",
    "import numpy as np\n",
    "import pandas as pd\n",
    "from tqdm import tqdm \n",
    "import netwulf as nw\n",
    "import matplotlib.pyplot as plt\n",
    "import seaborn as sns\n",
    "import random\n",
    "from joblib import delayed, Parallel\n",
    "# import nltk\n",
    "# import nltk.book as book\n",
    "# from wordcloud import WordCloud\n",
    " # Skal installeres senere\n",
    "\n",
    "seed = 42\n",
    "np.random.seed(seed)\n",
    "random.seed(seed)"
   ]
  },
  {
   "cell_type": "markdown",
   "metadata": {},
   "source": [
    "## Part 1: Properties of the real-world network of Computational Social Scientists"
   ]
  },
  {
   "cell_type": "markdown",
   "metadata": {},
   "source": [
    "> * First, calculate the probability (_p_) that makes the expected number of edges in our random network match the actual edge count in the Computational Social Scientists network. Refer to equation 3.2 in your Network Science textbook for guidance. After finding _p_, figure out the average degree (using the given formula). "
   ]
  },
  {
   "cell_type": "markdown",
   "metadata": {},
   "source": [
    "$$ p = \\frac{2L}{N(N-1)} $$\n",
    "\n",
    "$$ k = p(N-1) $$"
   ]
  },
  {
   "cell_type": "code",
   "execution_count": 74,
   "metadata": {},
   "outputs": [
    {
     "name": "stdout",
     "output_type": "stream",
     "text": [
      "Number of nodes: 14139, Number of edges: 57661\n"
     ]
    }
   ],
   "source": [
    "def load_graph(graph_file):\n",
    "    with open(graph_file, \"r\") as f:\n",
    "        data = json.load(f)\n",
    "    G = nx.readwrite.json_graph.node_link_graph(data)\n",
    "    return G\n",
    "\n",
    "graph_file = \"ic2s2_coauthors_graph.json\"\n",
    "G = load_graph(graph_file)\n",
    "N = G.number_of_nodes()\n",
    "L = G.number_of_edges()\n",
    "print(f\"Number of nodes: {N}, Number of edges: {L}\")"
   ]
  },
  {
   "cell_type": "code",
   "execution_count": 29,
   "metadata": {},
   "outputs": [
    {
     "name": "stdout",
     "output_type": "stream",
     "text": [
      "Edge probability: 0.0006, Expected degree: 8.1563\n"
     ]
    }
   ],
   "source": [
    "def edge_prob(N, L):\n",
    "    return (2 * L) / (N * (N - 1))\n",
    "\n",
    "def expected_degree(p, N):\n",
    "    return p * (N - 1)\n",
    "\n",
    "p = edge_prob(N, L)\n",
    "k = expected_degree(p, N)\n",
    "print(f\"Edge probability: {p:.4f}, Expected degree: {k:.4f}\")"
   ]
  },
  {
   "cell_type": "markdown",
   "metadata": {},
   "source": [
    "> * Now, write a function to generate a Random Network that mirrors the Computational Social Scientists network in terms of node count, using your calculated _p_. Generate a random network by linking nodes in every possible pair with probability _p_. **Hint**: you can use the function [``np.random.uniform``](https://numpy.org/doc/stable/reference/random/generated/numpy.random.uniform.html) to draw samples from a uniform probability distribution.   "
   ]
  },
  {
   "cell_type": "code",
   "execution_count": 86,
   "metadata": {},
   "outputs": [
    {
     "name": "stdout",
     "output_type": "stream",
     "text": [
      "Number of nodes for random network: 14139, Number of edges for random network: 57596\n"
     ]
    }
   ],
   "source": [
    "def random_network(G, seed = 42):\n",
    "    random.seed(seed)\n",
    "    N = G.number_of_nodes()\n",
    "    L = G.number_of_edges()\n",
    "    p = edge_prob(N, L)\n",
    "    G_random = nx.erdos_renyi_graph(N, p, seed=seed)\n",
    "    country_codes = [data['country_code'] for _, data in G.nodes(data=True) if 'country_code' in data]\n",
    "    random_country_codes = {node: {'country_code': random.choice(country_codes)} for node in G_random.nodes()}\n",
    "    nx.set_node_attributes(G_random, random_country_codes)\n",
    "    return G_random\n",
    "\n",
    "G_random = random_network(G)\n",
    "print(f\"Number of nodes for random network: {G_random.number_of_nodes()}, Number of edges for random network: {G_random.number_of_edges()}\")"
   ]
  },
  {
   "cell_type": "markdown",
   "metadata": {},
   "source": [
    "> * Visualize the network as you did for the Computational Social Scientists network in the exercise above (my version is below). \n"
   ]
  },
  {
   "cell_type": "code",
   "execution_count": null,
   "metadata": {},
   "outputs": [],
   "source": [
    "network, config = nw.visualize(G_random)\n",
    "\n",
    "# draw links only at first\n",
    "nw.draw_netwulf(network)"
   ]
  },
  {
   "cell_type": "markdown",
   "metadata": {},
   "source": [
    "> * Answer the following questions __(max 200 words in total)__: \n",
    ">    - What regime does your random network fall into? Is it above or below the critical threshold?  \n",
    ">    - According to the textbook, what does the network's structure resemble in this regime?  \n",
    ">    - Based on your visualizations, identify the key differences between the actual and the random networks. Explain whether these differences are consistent with theoretical expectations."
   ]
  },
  {
   "cell_type": "code",
   "execution_count": 16,
   "metadata": {},
   "outputs": [
    {
     "name": "stdout",
     "output_type": "stream",
     "text": [
      "p: 0.0006, p_critical: 0.0001\n"
     ]
    }
   ],
   "source": [
    "L_random = G_random.number_of_edges()\n",
    "p_random = (2 * L_random) / (N * (N - 1))\n",
    "p_c = 1 / N\n",
    "print(f'p: {p_random:.4f}, p_critical: {p_c:.4f}')"
   ]
  },
  {
   "cell_type": "markdown",
   "metadata": {},
   "source": [
    "- Since $p \\gt p_c$, the random network is a supercritical regime according to section 3.6 in the book \"Network Science\". That means the random network is above the critical threshold. \n",
    "- $\\dots$\n",
    "- One property of real-world networks are that they are heavy tailed distributions. In our case, the top author in the real network had a degree of 339, but for the random network, the top author only has a degree of 22."
   ]
  },
  {
   "cell_type": "markdown",
   "metadata": {},
   "source": [
    "> 2. _Shortest Paths_: Here, we will check if the Computational Social Scientists Network exhibits characteristics of a small-world network by analyzing its shortest paths.\n",
    "> * Begin by identifying the largest connected component within the Computational Social Scientists network. Recall that a connected component is a subset of nodes in which every pair of nodes is connected by a path. For a refresher on connected components, see section 2.9 of the Network Science book. Follow these steps:\n",
    ">    - Utilize [``nx.algorithms.connected_components``](https://networkx.org/documentation/stable//reference/algorithms/generated/networkx.algorithms.components.connected_components.html) to enumerate all connected components, which will be returned as a list of node subsets.\n",
    ">    - Select the largest subset of nodes identified in the previous step. Then, create a subgraph of your original network that includes only these nodes, using [``nx.Graph.subgraph``](https://networkx.org/documentation/stable/reference/classes/generated/networkx.Graph.subgraph.html). This subset forms your largest connected component, sometimes referred to as the [giant component](https://en.wikipedia.org/wiki/Giant_component).\n"
   ]
  },
  {
   "cell_type": "code",
   "execution_count": 34,
   "metadata": {},
   "outputs": [],
   "source": [
    "cc = nx.algorithms.connected_components(G)\n",
    "largest_cc = max(cc, key=len)\n",
    "giant_component = G.subgraph(largest_cc).copy()"
   ]
  },
  {
   "cell_type": "markdown",
   "metadata": {},
   "source": [
    "> * Calculate the average (unweighted) shortest path length within this giant component by employing [``nx.average_shortest_path_length``](https://networkx.org/documentation/networkx-1.3/reference/generated/networkx.average_shortest_path_length.html)."
   ]
  },
  {
   "cell_type": "code",
   "execution_count": null,
   "metadata": {},
   "outputs": [
    {
     "data": {
      "text/plain": [
       "5.168259510783142"
      ]
     },
     "execution_count": 31,
     "metadata": {},
     "output_type": "execute_result"
    }
   ],
   "source": [
    "nx.average_shortest_path_length(giant_component) "
   ]
  },
  {
   "cell_type": "markdown",
   "metadata": {},
   "source": [
    "\n",
    "> * Perform the same calculation for the giant component of the random network you constructed in the above exercise 1.\n"
   ]
  },
  {
   "cell_type": "code",
   "execution_count": 35,
   "metadata": {},
   "outputs": [
    {
     "name": "stdout",
     "output_type": "stream",
     "text": [
      "Edge probability: 0.0006, Expected degree: 8.3073\n"
     ]
    }
   ],
   "source": [
    "N = giant_component.number_of_nodes()\n",
    "L = giant_component.number_of_edges()\n",
    "p = edge_prob(N, L)\n",
    "k = expected_degree(p, N)\n",
    "print(f\"Edge probability: {p:.4f}, Expected degree: {k:.4f}\")"
   ]
  },
  {
   "cell_type": "markdown",
   "metadata": {},
   "source": [
    "\n",
    "> * Reflect on how the average shortest path lengths of the real and random networks compare and answer the following questions, supporting your answers with the theory from the book.\n",
    ">   - Why do you think I asked you to consider the giant component only?\n",
    ">   - Why do you think I asked you to consider unweighted edges?\n",
    ">   - Does the Computational Social Scientists network exhibit the small-world phenomenon?"
   ]
  },
  {
   "cell_type": "markdown",
   "metadata": {},
   "source": [
    "## Part 2 Network Analysis in Computational Social Science"
   ]
  },
  {
   "cell_type": "markdown",
   "metadata": {},
   "source": [
    "> __Exercise 1: Mixing Patterns and Assortativity__ \n",
    ">\n"
   ]
  },
  {
   "cell_type": "markdown",
   "metadata": {},
   "source": [
    "> __Part 1: Assortativity Coefficient__ \n",
    "> 1. *Calculate the Assortativity Coefficient* for the network based on the country of each node. Implement the calculation using the formula provided during the lecture, also available in [this paper](https://arxiv.org/pdf/cond-mat/0209450.pdf) (equation 2, here for directed networks). **Do not use the NetworkX implementation.**\n",
    ">\n"
   ]
  },
  {
   "cell_type": "markdown",
   "metadata": {},
   "source": [
    "We use the formula:"
   ]
  },
  {
   "cell_type": "markdown",
   "metadata": {},
   "source": [
    "$$\n",
    "r = \\frac{\\sum_i e_{ii} - \\sum_i a_i b_i}{1 - \\sum_i a_i b_i}\n",
    "$$\n"
   ]
  },
  {
   "cell_type": "code",
   "execution_count": 45,
   "metadata": {},
   "outputs": [
    {
     "name": "stdout",
     "output_type": "stream",
     "text": [
      "Assortativity coefficient: 0.3882\n"
     ]
    }
   ],
   "source": [
    "def assortativity_coefficient(G, attribute):\n",
    "    mixing_matrix = nx.attribute_mixing_matrix(G, attribute) \n",
    "\n",
    "    # Sum by row to get a_i\n",
    "    ai = np.sum(mixing_matrix, axis=0)\n",
    "\n",
    "    # sum by column to get b_i\n",
    "    bi = np.sum(mixing_matrix, axis=1)\n",
    "\n",
    "    # Diagonal from mixing matrix to get e_ii\n",
    "    eii = np.trace(mixing_matrix)\n",
    "    r = (eii - np.sum(ai*bi)) / (1 - np.sum(ai*bi))\n",
    "    return r\n",
    "\n",
    "r = assortativity_coefficient(G, 'country_code')\n",
    "print(f\"Assortativity coefficient: {r:.4f}\")"
   ]
  },
  {
   "cell_type": "markdown",
   "metadata": {},
   "source": [
    "> __Part 2: Configuration model__\n",
    "> In the following, we are going to assess the significance of the assortativity by comparing the network's assortativity coefficient against that of random networks generated through the configuration model.  \n",
    ">\n",
    "> 2. *Implement the configuration model* using the _double edge swap_ algorithm to generate random networks. Ensure each node retains its original degree but with altered connections. Create a function that does that by following these steps:\n",
    ">   - **a.** Create an exact copy of your original network.\n",
    ">   - **b.** Select two edges, $e_{1} = (u,v)$ and $e_{2} = (x,y)$, ensuring *u != y* and *v != x*.\n",
    ">   - **c.** Flip the direction of $e_{1}$ to $e_{1} = (v,u)$ 50% of the time. This ensure that your final results is not biased, in case your edges were sorted (they usually are). \n",
    ">   - **d.** Ensure that new edges $e_{1}' = (e_{1}[0],e_{2}[1])$ and $e_{2}' = (e_{2}[0],e_{1}[1])$ do not already exist in the network.\n",
    ">   - **e.** Remove edges $e_{1}$ and $e_{2}$ and add edges $e_{1}'$ and $e_{2}'$.\n",
    ">   - **f.** Repeat steps **b** to **e** until you have performed _E*10_ swaps, where E is the total number of edges.\n"
   ]
  },
  {
   "cell_type": "code",
   "execution_count": 50,
   "metadata": {},
   "outputs": [
    {
     "data": {
      "text/plain": [
       "-0.0009746052918132346"
      ]
     },
     "execution_count": 50,
     "metadata": {},
     "output_type": "execute_result"
    }
   ],
   "source": [
    "def double_edge_swap(G):\n",
    "    H = G.copy()\n",
    "    E = H.number_of_edges()\n",
    "    total_swaps = E * 10\n",
    "    edges = list(H.edges())\n",
    "    swaps = 0\n",
    "    while swaps < total_swaps:\n",
    "        i, j = random.sample(range(E), 2)\n",
    "        u, v = edges[i]\n",
    "        x, y = edges[j]\n",
    "        if random.random() < 0.5:\n",
    "            u, v = v, u\n",
    "        if u == y or v == x or H.has_edge(u, y) or H.has_edge(x, v):\n",
    "            continue\n",
    "        H.remove_edge(u, v)\n",
    "        H.remove_edge(x, y)\n",
    "        H.add_edge(u, y)\n",
    "        H.add_edge(x, v)\n",
    "        edges[i] = (u, y)\n",
    "        edges[j] = (x, v)\n",
    "        swaps += 1\n",
    "    return H\n",
    "\n",
    "H = double_edge_swap(G)\n",
    "assortativity_coefficient(H, 'country_code')"
   ]
  },
  {
   "cell_type": "markdown",
   "metadata": {},
   "source": [
    "\n",
    "> 3. *Double check that your algorithm works well*, by showing that the degree of nodes in the original network and the new 'randomized' version of the network are the same.\n",
    ">\n",
    ">\n"
   ]
  },
  {
   "cell_type": "code",
   "execution_count": 72,
   "metadata": {},
   "outputs": [
    {
     "name": "stdout",
     "output_type": "stream",
     "text": [
      "Degrees preserved: True\n"
     ]
    }
   ],
   "source": [
    "orig_degrees = dict(G.degree())\n",
    "rand_degrees = dict(H.degree())\n",
    "print(\"Degrees preserved:\", all(orig_degrees[node] == rand_degrees[node] for node in G.nodes()))"
   ]
  },
  {
   "cell_type": "markdown",
   "metadata": {},
   "source": [
    "> __Part 3: Analyzing Assortativity in Random Networks__  \n",
    ">\n",
    "> 4. *Generate and analyze at least 100 random networks* using the configuration model. For each, calculate the assortativity with respect to the country and plot the distribution of these values. Compare the results with the assortativity of your original network to determine if connections within the same country are significantly higher than chance.\n",
    ">"
   ]
  },
  {
   "cell_type": "code",
   "execution_count": null,
   "metadata": {},
   "outputs": [],
   "source": [
    "# TODO: Delete whole code cell \n",
    "\n",
    "# def plot_by_country(G):\n",
    "#     r_values = []\n",
    "#     for i in range(5):\n",
    "#         G_random = random_network(G, seed = i)\n",
    "#         print(nx.attribute_assortativity_coefficient(G_random, 'country_code'))\n",
    "#         r_values.append(nx.attribute_assortativity_coefficient(G_random, 'country_code'))\n",
    "#     plt.hist(r_values)\n",
    "\n",
    "# plot_by_country(G)"
   ]
  },
  {
   "cell_type": "markdown",
   "metadata": {},
   "source": [
    "Getting assortativity coefficients from 100 random networks"
   ]
  },
  {
   "cell_type": "code",
   "execution_count": null,
   "metadata": {},
   "outputs": [],
   "source": [
    "def assortativity_by_country(seed, G):\n",
    "    G_random = random_network(G, seed=seed)\n",
    "    return nx.attribute_assortativity_coefficient(G_random, 'country_code')\n",
    "\n",
    "def parallel_r_values(G, n_iters=100, n_jobs=-1):\n",
    "    seeds = list(range(n_iters))\n",
    "    \n",
    "    # Parallel execution\n",
    "    r_values = Parallel(n_jobs=n_jobs)(\n",
    "        delayed(assortativity_by_country)(seed, G) for seed in seeds\n",
    "    )\n",
    "    return r_values\n",
    "\n",
    "r_values = parallel_r_values(G)\n"
   ]
  },
  {
   "cell_type": "markdown",
   "metadata": {},
   "source": [
    "Plotting assortativity coefficients"
   ]
  },
  {
   "cell_type": "code",
   "execution_count": null,
   "metadata": {},
   "outputs": [
    {
     "data": {
      "text/plain": [
       "(array([ 5.,  4., 14.,  6., 15., 20., 12., 13.,  8.,  3.]),\n",
       " array([-0.00389667, -0.00315787, -0.00241907, -0.00168026, -0.00094146,\n",
       "        -0.00020266,  0.00053615,  0.00127495,  0.00201376,  0.00275256,\n",
       "         0.00349136]),\n",
       " <BarContainer object of 10 artists>)"
      ]
     },
     "execution_count": 91,
     "metadata": {},
     "output_type": "execute_result"
    },
    {
     "data": {
      "image/png": "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",
      "text/plain": [
       "<Figure size 640x480 with 1 Axes>"
      ]
     },
     "metadata": {},
     "output_type": "display_data"
    }
   ],
   "source": [
    "# TODO: Gør det pænt\n",
    "plt.hist(r_values)"
   ]
  },
  {
   "cell_type": "markdown",
   "metadata": {},
   "source": [
    "> __Exercise 2: Zachary's karate club__: In this exercise, we will work on Zarachy's karate club graph (refer to the Introduction of Chapter 9). The dataset is available in NetworkX, by calling the function [karate_club_graph](https://networkx.org/documentation/stable//auto_examples/graph/plot_karate_club.html)\n",
    ">\n",
    "> 1. Visualize the graph. Set the color of each node based on the club split (the information is stored as a node attribute). My version of the visualization is below.\n"
   ]
  },
  {
   "cell_type": "code",
   "execution_count": 93,
   "metadata": {},
   "outputs": [],
   "source": [
    "G_karate = nx.karate_club_graph()\n",
    "network, config = nw.visualize(G_karate, config={'zoom':3})"
   ]
  },
  {
   "cell_type": "markdown",
   "metadata": {},
   "source": [
    "> 2. Write a function to compute the __modularity__ of a graph partitioning (use **equation 9.12** in the book). The function should take a networkX Graph and a partitioning as inputs and return the modularity.\n"
   ]
  },
  {
   "cell_type": "code",
   "execution_count": null,
   "metadata": {},
   "outputs": [],
   "source": [
    "# Okay hvis vi plotter karate_club grafen er der naturligt 2 partitions. \n",
    "\n",
    "\n",
    "def partition_graph(G):\n",
    "    c = list(nx.algorithms.community.greedy_modularity_communities(G))\n",
    "    return c\n",
    "\n",
    "# componenx.algorithms.community.greedy_modularity_communities G.number_of_edhed\n",
    "#     s = G.subgraph(c)\n",
    "#     L_c = s.number_of_edges()\n",
    "#     k_c = sum(dict(s.degree()).values())\n",
    "#     M_c = ()\n",
    "\n",
    "def modularity(G):\n",
    "    N = G.number_of_nodes()\n",
    "    L = G.number_of_edges()\n",
    "    c = list(partition_graph(G))\n",
    "    return c\n",
   ]
  },
  {
   "cell_type": "markdown",
   "metadata": {},
   "source": [
    "> 3. Explain in your own words the concept of _modularity_.\n"
   ]
  },
  {
   "cell_type": "markdown",
   "metadata": {},
   "source": [
    "> 4. Compute the modularity of the Karate club split partitioning using the function you just wrote. Note: the Karate club split partitioning is avilable as a [node attribute](https://networkx.org/documentation/networkx-1.10/reference/generated/networkx.classes.function.get_node_attributes.html), called _\"club\"_.\n"
   ]
  },
  {
   "cell_type": "markdown",
   "metadata": {},
   "source": [
    "> 5. Create $1000$ randomized version of the Karate Club network using the _double edge swap_ algorithm you wrote in the exercise above 5. For each of them, compute the modularity of the \"club\" split and store it in a list.\n"
   ]
  },
  {
   "cell_type": "markdown",
   "metadata": {},
   "source": [
    "> 6. Compute the average and standard deviation of the modularity for the random network.\n"
   ]
  },
  {
   "cell_type": "markdown",
   "metadata": {},
   "source": [
    "> 7. Plot the distribution of the \"random\" modularity. Plot the actual modularity of the club split as a vertical line (use [axvline](https://matplotlib.org/stable/api/_as_gen/matplotlib.pyplot.axvline.html)).\n"
   ]
  },
  {
   "cell_type": "markdown",
   "metadata": {},
   "source": [
    "> 8. Comment on the figure. Is the club split a good partitioning? Why do you think I asked you to perform a randomization experiment? What is the reason why we preserved the nodes degree?\n"
   ]
  },
  {
   "cell_type": "markdown",
   "metadata": {},
   "source": [
    "> 9.  Use [the Python Louvain-algorithm implementation](https://anaconda.org/auto/python-louvain) to find communities in this graph. Report the value of modularity found by the algorithm. Is it higher or lower than what you found above for the club split? What does this comparison reveal?\n"
   ]
  },
  {
   "cell_type": "markdown",
   "metadata": {},
   "source": [
    "> 10.  Compare the communities found by the Louvain algorithm with the club split partitioning by creating a matrix **_D_** with dimension (2 times _A_), where _A_ is the number of communities found by Louvain. We set entry _D_(_i_,_j_) to be the number of nodes that community _i_ has in common with group split _j_. The matrix **_D_** is what we call a [**confusion matrix**](https://en.wikipedia.org/wiki/Confusion_matrix). Use the confusion matrix to explain how well the communities you've detected correspond to the club split partitioning."
   ]
  },
  {
   "cell_type": "markdown",
   "metadata": {},
   "source": [
    "## Part 3 - Words that characterize Computational Social Science communities"
   ]
  }
 ],
 "metadata": {
  "kernelspec": {
   "display_name": "base",
   "language": "python",
   "name": "python3"
  },
  "language_info": {
   "codemirror_mode": {
    "name": "ipython",
    "version": 3
   },
   "file_extension": ".py",
   "mimetype": "text/x-python",
   "name": "python",
   "nbconvert_exporter": "python",
   "pygments_lexer": "ipython3",
   "version": "3.11.5"
  }
 },
 "nbformat": 4,
 "nbformat_minor": 2
}
